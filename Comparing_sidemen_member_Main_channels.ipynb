{
  "cells": [
    {
      "cell_type": "code",
      "execution_count": 6,
      "metadata": {
        "id": "h1Owps4qNQ40"
      },
      "outputs": [],
      "source": [
        "from googleapiclient.discovery import build\n",
        "import pandas as pd\n",
        "import os \n",
        "import seaborn as sns\n"
      ]
    },
    {
      "cell_type": "code",
      "execution_count": 7,
      "metadata": {},
      "outputs": [
        {
          "data": {
            "text/plain": [
              "True"
            ]
          },
          "execution_count": 7,
          "metadata": {},
          "output_type": "execute_result"
        }
      ],
      "source": [
        "from dotenv import load_dotenv\n",
        "\n",
        "load_dotenv()"
      ]
    },
    {
      "cell_type": "code",
      "execution_count": 8,
      "metadata": {
        "id": "mgz_Ct7ANrm5"
      },
      "outputs": [],
      "source": [
        "channel_id='UCGmnsW623G1r-Chmo5RB4Yw'\n",
        "#initializing connection to youtube api\n",
        "youtube=build('youtube','v3',developerKey=os.getenv(\"api_key\"))"
      ]
    },
    {
      "cell_type": "code",
      "execution_count": 9,
      "metadata": {
        "id": "pPB8Pxx8Oo68"
      },
      "outputs": [],
      "source": [
        "#function to extract function details.\n",
        "def get_channel_stats(youtube,channel_id):\n",
        "  request=youtube.channels().list(\n",
        "      part='snippet,contentDetails,statistics',\n",
        "      id=channel_id\n",
        "  )\n",
        "  response=request.execute()\n",
        "  return response\n"
      ]
    },
    {
      "cell_type": "code",
      "execution_count": 10,
      "metadata": {
        "colab": {
          "base_uri": "https://localhost:8080/"
        },
        "id": "ZrdFgea-Qdl0",
        "outputId": "aee65d30-833e-414b-fb30-bba9f06f2b9a"
      },
      "outputs": [
        {
          "data": {
            "text/plain": [
              "{'kind': 'youtube#channelListResponse',\n",
              " 'etag': '9mq-eEgBvMP19fvK1CD-VchPDmo',\n",
              " 'pageInfo': {'totalResults': 1, 'resultsPerPage': 5},\n",
              " 'items': [{'kind': 'youtube#channel',\n",
              "   'etag': 'ffysgF_Vmd-BEkR1CY3wMFMB73c',\n",
              "   'id': 'UCGmnsW623G1r-Chmo5RB4Yw',\n",
              "   'snippet': {'title': 'JJ Olatunji',\n",
              "    'description': ' For any inquiries contact Mams Taylor – Mams@properloud.com',\n",
              "    'customUrl': '@jjolatunji',\n",
              "    'publishedAt': '2011-01-26T21:00:50Z',\n",
              "    'thumbnails': {'default': {'url': 'https://yt3.ggpht.com/ytc/AOPolaTa1i_dVvUfJhAr0Dr1K8sWpTFec_BQoVLfCWWhmQ=s88-c-k-c0x00ffffff-no-rj',\n",
              "      'width': 88,\n",
              "      'height': 88},\n",
              "     'medium': {'url': 'https://yt3.ggpht.com/ytc/AOPolaTa1i_dVvUfJhAr0Dr1K8sWpTFec_BQoVLfCWWhmQ=s240-c-k-c0x00ffffff-no-rj',\n",
              "      'width': 240,\n",
              "      'height': 240},\n",
              "     'high': {'url': 'https://yt3.ggpht.com/ytc/AOPolaTa1i_dVvUfJhAr0Dr1K8sWpTFec_BQoVLfCWWhmQ=s800-c-k-c0x00ffffff-no-rj',\n",
              "      'width': 800,\n",
              "      'height': 800}},\n",
              "    'localized': {'title': 'JJ Olatunji',\n",
              "     'description': ' For any inquiries contact Mams Taylor – Mams@properloud.com'},\n",
              "    'country': 'GB'},\n",
              "   'contentDetails': {'relatedPlaylists': {'likes': '',\n",
              "     'uploads': 'UUGmnsW623G1r-Chmo5RB4Yw'}},\n",
              "   'statistics': {'viewCount': '4078019213',\n",
              "    'subscriberCount': '16200000',\n",
              "    'hiddenSubscriberCount': False,\n",
              "    'videoCount': '1288'}}]}"
            ]
          },
          "execution_count": 10,
          "metadata": {},
          "output_type": "execute_result"
        }
      ],
      "source": [
        "get_channel_stats(youtube,channel_id)"
      ]
    },
    {
      "cell_type": "code",
      "execution_count": 11,
      "metadata": {
        "id": "80RKejRGQiCA"
      },
      "outputs": [],
      "source": [
        "#we modify our function made above to get more precise output, i.e the output we just need\n",
        "def get_channel_stats_v2(youtube,channel_id):\n",
        "  request=youtube.channels().list(\n",
        "      part='snippet,contentDetails,statistics',\n",
        "      id=channel_id\n",
        "  )\n",
        "  response=request.execute()\n",
        "  #using a dictionary to store relevant information about channel like name, stats and viewcount etc.\n",
        "\n",
        "  data=dict(Channel_name=response['items'][0]['snippet']['title'],\n",
        "            Subscribers=response['items'][0]['statistics']['subscriberCount'],\n",
        "            Views=response['items'][0]['statistics']['viewCount'],\n",
        "            Total_videos=response['items'][0]['statistics']['videoCount'])\n",
        "\n",
        "  return data"
      ]
    },
    {
      "cell_type": "code",
      "execution_count": 12,
      "metadata": {
        "colab": {
          "base_uri": "https://localhost:8080/"
        },
        "id": "pxxeujQ0SfmZ",
        "outputId": "b77aaaa9-4d7c-45eb-be88-70a0e6dd09a3"
      },
      "outputs": [
        {
          "data": {
            "text/plain": [
              "{'Channel_name': 'JJ Olatunji',\n",
              " 'Subscribers': '16200000',\n",
              " 'Views': '4078019213',\n",
              " 'Total_videos': '1288'}"
            ]
          },
          "execution_count": 12,
          "metadata": {},
          "output_type": "execute_result"
        }
      ],
      "source": [
        "get_channel_stats_v2(youtube,channel_id)"
      ]
    },
    {
      "cell_type": "code",
      "execution_count": 13,
      "metadata": {
        "id": "_JsrCWtWSlpl"
      },
      "outputs": [],
      "source": [
        "#So instead of just using one channel id, we use multiple id's and use the function on it to get our data,\n",
        "#we now collect channel id of all sidemen member channels\n",
        "\n",
        "channel_ids=['UCGmnsW623G1r-Chmo5RB4Yw',#JJ Olatunji\n",
        "            'UCWZmCMB7mmKWcXJSIPRhzZw',#Miniminter\n",
        "             'UCjtLOfx1yt1NlnFIDyAX3Ug', #W2S\n",
        "             'UCvwgF_0NOZe2vN4Q3g1bY-A', #Vikkstar123\n",
        "             'UCHhfSXoDG6gSgpOvLH4wrRw',#Behzinga\n",
        "             'UChntGq8THlUokhc1tT-M2wA',#Zerkaa\n",
        "             'UCfNWN9s_s8kRTCadk04WWJA' #Tobi\n",
        "]\n"
      ]
    },
    {
      "cell_type": "code",
      "execution_count": 14,
      "metadata": {
        "id": "MAflOUIdUQKH"
      },
      "outputs": [],
      "source": [
        "#Now let's pull data from these channels\n"
      ]
    },
    {
      "cell_type": "markdown",
      "metadata": {
        "id": "pHQF7yqOUrMd"
      },
      "source": [
        "In order to do that, we need to modify our function yet again as we have a list of channel id's now so id in the function will take input as a list of channel id's\n"
      ]
    },
    {
      "cell_type": "code",
      "execution_count": 15,
      "metadata": {
        "id": "rEniYQDnUzxg"
      },
      "outputs": [],
      "source": [
        "def get_channel_stats_v3(youtube,channel_ids):\n",
        "  all_data=[]\n",
        "  request=youtube.channels().list(\n",
        "      part='snippet,contentDetails,statistics',\n",
        "      id=','.join(channel_ids)\n",
        "  )\n",
        "  response=request.execute()\n",
        "  #using a dictionary to store relevant information about channel like name, stats and viewcount etc.\n",
        "\n",
        "  for i in range(len(response['items'])):\n",
        "    data=dict(Channel_name=response['items'][i]['snippet']['title'],\n",
        "            Subscribers=response['items'][i]['statistics']['subscriberCount'],\n",
        "            Views=response['items'][i]['statistics']['viewCount'],\n",
        "            Total_videos=response['items'][i]['statistics']['videoCount'])\n",
        "    all_data.append(data)\n",
        "\n",
        "  return all_data"
      ]
    },
    {
      "cell_type": "code",
      "execution_count": 16,
      "metadata": {
        "id": "UCY0DHJMVG3o"
      },
      "outputs": [],
      "source": [
        "channel_stats=get_channel_stats_v3(youtube,channel_ids)"
      ]
    },
    {
      "cell_type": "markdown",
      "metadata": {
        "id": "l1HxK41-V0Ay"
      },
      "source": [
        "Now let's use Pandas to load this data into a DataFrame for further analysis."
      ]
    },
    {
      "cell_type": "code",
      "execution_count": 17,
      "metadata": {
        "id": "hgn02zCqVtL_"
      },
      "outputs": [],
      "source": [
        "channel_data=pd.DataFrame(channel_stats)"
      ]
    },
    {
      "cell_type": "code",
      "execution_count": 18,
      "metadata": {
        "colab": {
          "base_uri": "https://localhost:8080/",
          "height": 269
        },
        "id": "2ltUnHK_V-s2",
        "outputId": "b20f537f-83c7-48a1-9480-ae799079736c"
      },
      "outputs": [
        {
          "data": {
            "text/html": [
              "<div>\n",
              "<style scoped>\n",
              "    .dataframe tbody tr th:only-of-type {\n",
              "        vertical-align: middle;\n",
              "    }\n",
              "\n",
              "    .dataframe tbody tr th {\n",
              "        vertical-align: top;\n",
              "    }\n",
              "\n",
              "    .dataframe thead th {\n",
              "        text-align: right;\n",
              "    }\n",
              "</style>\n",
              "<table border=\"1\" class=\"dataframe\">\n",
              "  <thead>\n",
              "    <tr style=\"text-align: right;\">\n",
              "      <th></th>\n",
              "      <th>Channel_name</th>\n",
              "      <th>Subscribers</th>\n",
              "      <th>Views</th>\n",
              "      <th>Total_videos</th>\n",
              "    </tr>\n",
              "  </thead>\n",
              "  <tbody>\n",
              "    <tr>\n",
              "      <th>0</th>\n",
              "      <td>Miniminter</td>\n",
              "      <td>10200000</td>\n",
              "      <td>3695385964</td>\n",
              "      <td>1888</td>\n",
              "    </tr>\n",
              "    <tr>\n",
              "      <th>1</th>\n",
              "      <td>JJ Olatunji</td>\n",
              "      <td>16200000</td>\n",
              "      <td>4078019213</td>\n",
              "      <td>1288</td>\n",
              "    </tr>\n",
              "    <tr>\n",
              "      <th>2</th>\n",
              "      <td>Behzinga</td>\n",
              "      <td>4940000</td>\n",
              "      <td>572071510</td>\n",
              "      <td>866</td>\n",
              "    </tr>\n",
              "    <tr>\n",
              "      <th>3</th>\n",
              "      <td>Zerkaa</td>\n",
              "      <td>4680000</td>\n",
              "      <td>774585520</td>\n",
              "      <td>1803</td>\n",
              "    </tr>\n",
              "    <tr>\n",
              "      <th>4</th>\n",
              "      <td>TBJZL</td>\n",
              "      <td>4930000</td>\n",
              "      <td>530852593</td>\n",
              "      <td>896</td>\n",
              "    </tr>\n",
              "    <tr>\n",
              "      <th>5</th>\n",
              "      <td>Vikkstar123</td>\n",
              "      <td>7600000</td>\n",
              "      <td>2136827635</td>\n",
              "      <td>5021</td>\n",
              "    </tr>\n",
              "    <tr>\n",
              "      <th>6</th>\n",
              "      <td>W2S</td>\n",
              "      <td>16300000</td>\n",
              "      <td>4768551162</td>\n",
              "      <td>652</td>\n",
              "    </tr>\n",
              "  </tbody>\n",
              "</table>\n",
              "</div>"
            ],
            "text/plain": [
              "  Channel_name Subscribers       Views Total_videos\n",
              "0   Miniminter    10200000  3695385964         1888\n",
              "1  JJ Olatunji    16200000  4078019213         1288\n",
              "2     Behzinga     4940000   572071510          866\n",
              "3       Zerkaa     4680000   774585520         1803\n",
              "4        TBJZL     4930000   530852593          896\n",
              "5  Vikkstar123     7600000  2136827635         5021\n",
              "6          W2S    16300000  4768551162          652"
            ]
          },
          "execution_count": 18,
          "metadata": {},
          "output_type": "execute_result"
        }
      ],
      "source": [
        "channel_data"
      ]
    },
    {
      "cell_type": "markdown",
      "metadata": {
        "id": "wckrKFWDWHXS"
      },
      "source": [
        "We need to modify the data types for the above dataframe"
      ]
    },
    {
      "cell_type": "code",
      "execution_count": 19,
      "metadata": {
        "colab": {
          "base_uri": "https://localhost:8080/"
        },
        "id": "PiiMEaoSWABt",
        "outputId": "61a3596b-8885-479a-d5e9-f5877242f21e"
      },
      "outputs": [
        {
          "data": {
            "text/plain": [
              "Channel_name    object\n",
              "Subscribers     object\n",
              "Views           object\n",
              "Total_videos    object\n",
              "dtype: object"
            ]
          },
          "execution_count": 19,
          "metadata": {},
          "output_type": "execute_result"
        }
      ],
      "source": [
        "channel_data.dtypes"
      ]
    },
    {
      "cell_type": "markdown",
      "metadata": {
        "id": "xGiYNEJBWSfj"
      },
      "source": [
        "All are objects, so we convert all of them to numeric"
      ]
    },
    {
      "cell_type": "code",
      "execution_count": 20,
      "metadata": {
        "id": "sTWUINNGWNul"
      },
      "outputs": [],
      "source": [
        "channel_data['Subscribers']=pd.to_numeric(channel_data['Subscribers'])\n",
        "channel_data['Views']=pd.to_numeric(channel_data['Views'])\n",
        "channel_data['Total_videos']=pd.to_numeric(channel_data['Total_videos'])\n"
      ]
    },
    {
      "cell_type": "code",
      "execution_count": 21,
      "metadata": {
        "colab": {
          "base_uri": "https://localhost:8080/"
        },
        "id": "Z0SZP5CEWmpJ",
        "outputId": "9fc00bc6-3fb9-42a2-8f24-773552b33fae"
      },
      "outputs": [
        {
          "data": {
            "text/plain": [
              "Channel_name    object\n",
              "Subscribers      int64\n",
              "Views            int64\n",
              "Total_videos     int64\n",
              "dtype: object"
            ]
          },
          "execution_count": 21,
          "metadata": {},
          "output_type": "execute_result"
        }
      ],
      "source": [
        "channel_data.dtypes\n"
      ]
    },
    {
      "cell_type": "markdown",
      "metadata": {
        "id": "5hccaadjWsq6"
      },
      "source": [
        "# Let's use Seaborn to create basic plots and visualize our simple dataset."
      ]
    },
    {
      "cell_type": "code",
      "execution_count": 22,
      "metadata": {
        "colab": {
          "base_uri": "https://localhost:8080/",
          "height": 535
        },
        "id": "Q1JtQP1MWob1",
        "outputId": "199a23b7-5df6-4095-f592-034a35425849"
      },
      "outputs": [
        {
          "data": {
            "image/png": "[encoded data removed]",
            "text/plain": [
              "<Figure size 1000x800 with 1 Axes>"
            ]
          },
          "metadata": {},
          "output_type": "display_data"
        }
      ],
      "source": [
        "sns.set(rc={'figure.figsize':(10,8)})\n",
        "ax=sns.barplot(x='Channel_name',y='Subscribers',data=channel_data)\n"
      ]
    },
    {
      "cell_type": "markdown",
      "metadata": {
        "id": "Qoa9MWxxXWgu"
      },
      "source": [
        "We see that JJ Olatunji and W2S have almost the same amount of subscribers, W2S having slightly more than JJ."
      ]
    },
    {
      "cell_type": "markdown",
      "metadata": {
        "id": "p2nuc4ujXmvI"
      },
      "source": [
        "Let's see who has most amount of total channel views"
      ]
    },
    {
      "cell_type": "code",
      "execution_count": 23,
      "metadata": {
        "colab": {
          "base_uri": "https://localhost:8080/",
          "height": 544
        },
        "id": "NRuuxXoeW9Ye",
        "outputId": "f7cdb2e6-86db-47c6-c663-f453d5ec29a7"
      },
      "outputs": [
        {
          "data": {
            "image/png": "[encoded data removed]",
            "text/plain": [
              "<Figure size 1000x800 with 1 Axes>"
            ]
          },
          "metadata": {},
          "output_type": "display_data"
        }
      ],
      "source": [
        "ax=sns.barplot(x='Channel_name',y='Views',data=channel_data)"
      ]
    },
    {
      "cell_type": "markdown",
      "metadata": {
        "id": "9KvnUc_gXwLJ"
      },
      "source": [
        "W2S clearly has the most amount of views out of all the channels here."
      ]
    },
    {
      "cell_type": "code",
      "execution_count": 24,
      "metadata": {
        "colab": {
          "base_uri": "https://localhost:8080/",
          "height": 515
        },
        "id": "DXwTiUGgXsKE",
        "outputId": "d2b40b1f-82ac-4700-d8ae-08d9b4c2707f"
      },
      "outputs": [
        {
          "data": {
            "image/png": "[encoded data removed]",
            "text/plain": [
              "<Figure size 1000x800 with 1 Axes>"
            ]
          },
          "metadata": {},
          "output_type": "display_data"
        }
      ],
      "source": [
        "ax=sns.barplot(x='Channel_name',y='Total_videos',data=channel_data)"
      ]
    },
    {
      "cell_type": "markdown",
      "metadata": {
        "id": "-qXp29x4X53P"
      },
      "source": [
        "Vikkstar123 has made a much more significant amount of videos compared to other channels."
      ]
    },
    {
      "cell_type": "code",
      "execution_count": 25,
      "metadata": {
        "colab": {
          "base_uri": "https://localhost:8080/",
          "height": 560
        },
        "id": "ET2bdg5XX4R3",
        "outputId": "c7b0c4cd-b1b1-4de7-d5fb-8b7c4d2a8588"
      },
      "outputs": [
        {
          "data": {
            "text/plain": [
              "<AxesSubplot:xlabel='Subscribers', ylabel='Views'>"
            ]
          },
          "execution_count": 25,
          "metadata": {},
          "output_type": "execute_result"
        },
        {
          "data": {
            "image/png": "[encoded data removed]",
            "text/plain": [
              "<Figure size 1000x800 with 1 Axes>"
            ]
          },
          "metadata": {},
          "output_type": "display_data"
        }
      ],
      "source": [
        "sns.lineplot(x='Subscribers',y='Views',data=channel_data)"
      ]
    },
    {
      "cell_type": "markdown",
      "metadata": {
        "id": "3zGC1gA4YYur"
      },
      "source": [
        "Predictably, views increase mostly with the increase in subscribers."
      ]
    },
    {
      "cell_type": "markdown",
      "metadata": {
        "id": "w7Dcde5DYe9j"
      },
      "source": [
        "# For now, We stop the analysis here and in future, much more data can be pulled and even SocialBlade data can be used and various comparisons and even predictions can be made, for now, we stop here."
      ]
    },
    {
      "cell_type": "markdown",
      "metadata": {
        "id": "jDlipDKDYs0Y"
      },
      "source": [
        "**We now focus on one channel and get video data using youtube data api**"
      ]
    },
    {
      "cell_type": "code",
      "execution_count": 26,
      "metadata": {
        "id": "wYMyjVieYSCc"
      },
      "outputs": [],
      "source": [
        "#let's focus on JJ Olatunji's channel itself.\n",
        "#We add the playlist_id which can be found in the response data from api call and add it to channel_data\n",
        "\n",
        "def get_channel_stats_v4(youtube,channel_ids):\n",
        "  all_data=[]\n",
        "  request=youtube.channels().list(\n",
        "      part='snippet,contentDetails,statistics',\n",
        "      id=','.join(channel_ids)\n",
        "  )\n",
        "  response=request.execute()\n",
        "  #using a dictionary to store relevant information about channel like name, stats and viewcount etc.\n",
        "\n",
        "  for i in range(len(response['items'])):\n",
        "    data=dict(Channel_name=response['items'][i]['snippet']['title'],\n",
        "            Subscribers=response['items'][i]['statistics']['subscriberCount'],\n",
        "            Views=response['items'][i]['statistics']['viewCount'],\n",
        "            Total_videos=response['items'][i]['statistics']['videoCount'],\n",
        "            playlist_id=response['items'][i]['contentDetails']['relatedPlaylists']['uploads']\n",
        "    )\n",
        "    all_data.append(data)\n",
        "\n",
        "  return all_data"
      ]
    },
    {
      "cell_type": "code",
      "execution_count": 27,
      "metadata": {
        "id": "vdxNNPERZ30y"
      },
      "outputs": [],
      "source": [
        "channel_stats=get_channel_stats_v4(youtube,channel_ids)"
      ]
    },
    {
      "cell_type": "code",
      "execution_count": 28,
      "metadata": {
        "id": "Zux2kzy4Zsos"
      },
      "outputs": [],
      "source": [
        "channel_data=pd.DataFrame(channel_stats)"
      ]
    },
    {
      "cell_type": "code",
      "execution_count": 29,
      "metadata": {
        "colab": {
          "base_uri": "https://localhost:8080/",
          "height": 333
        },
        "id": "Lc9ailgsZx4H",
        "outputId": "3da92ee3-3614-4d1d-84e6-c8c11ce4f5ef"
      },
      "outputs": [
        {
          "data": {
            "text/html": [
              "<div>\n",
              "<style scoped>\n",
              "    .dataframe tbody tr th:only-of-type {\n",
              "        vertical-align: middle;\n",
              "    }\n",
              "\n",
              "    .dataframe tbody tr th {\n",
              "        vertical-align: top;\n",
              "    }\n",
              "\n",
              "    .dataframe thead th {\n",
              "        text-align: right;\n",
              "    }\n",
              "</style>\n",
              "<table border=\"1\" class=\"dataframe\">\n",
              "  <thead>\n",
              "    <tr style=\"text-align: right;\">\n",
              "      <th></th>\n",
              "      <th>Channel_name</th>\n",
              "      <th>Subscribers</th>\n",
              "      <th>Views</th>\n",
              "      <th>Total_videos</th>\n",
              "      <th>playlist_id</th>\n",
              "    </tr>\n",
              "  </thead>\n",
              "  <tbody>\n",
              "    <tr>\n",
              "      <th>0</th>\n",
              "      <td>JJ Olatunji</td>\n",
              "      <td>16200000</td>\n",
              "      <td>4078019213</td>\n",
              "      <td>1288</td>\n",
              "      <td>UUGmnsW623G1r-Chmo5RB4Yw</td>\n",
              "    </tr>\n",
              "    <tr>\n",
              "      <th>1</th>\n",
              "      <td>TBJZL</td>\n",
              "      <td>4930000</td>\n",
              "      <td>530852593</td>\n",
              "      <td>896</td>\n",
              "      <td>UUfNWN9s_s8kRTCadk04WWJA</td>\n",
              "    </tr>\n",
              "    <tr>\n",
              "      <th>2</th>\n",
              "      <td>Behzinga</td>\n",
              "      <td>4940000</td>\n",
              "      <td>572071510</td>\n",
              "      <td>866</td>\n",
              "      <td>UUHhfSXoDG6gSgpOvLH4wrRw</td>\n",
              "    </tr>\n",
              "    <tr>\n",
              "      <th>3</th>\n",
              "      <td>W2S</td>\n",
              "      <td>16300000</td>\n",
              "      <td>4768551162</td>\n",
              "      <td>652</td>\n",
              "      <td>UUjtLOfx1yt1NlnFIDyAX3Ug</td>\n",
              "    </tr>\n",
              "    <tr>\n",
              "      <th>4</th>\n",
              "      <td>Miniminter</td>\n",
              "      <td>10200000</td>\n",
              "      <td>3695385964</td>\n",
              "      <td>1888</td>\n",
              "      <td>UUWZmCMB7mmKWcXJSIPRhzZw</td>\n",
              "    </tr>\n",
              "    <tr>\n",
              "      <th>5</th>\n",
              "      <td>Vikkstar123</td>\n",
              "      <td>7600000</td>\n",
              "      <td>2136827635</td>\n",
              "      <td>5021</td>\n",
              "      <td>UUvwgF_0NOZe2vN4Q3g1bY-A</td>\n",
              "    </tr>\n",
              "    <tr>\n",
              "      <th>6</th>\n",
              "      <td>Zerkaa</td>\n",
              "      <td>4680000</td>\n",
              "      <td>774585520</td>\n",
              "      <td>1803</td>\n",
              "      <td>UUhntGq8THlUokhc1tT-M2wA</td>\n",
              "    </tr>\n",
              "  </tbody>\n",
              "</table>\n",
              "</div>"
            ],
            "text/plain": [
              "  Channel_name Subscribers       Views Total_videos               playlist_id\n",
              "0  JJ Olatunji    16200000  4078019213         1288  UUGmnsW623G1r-Chmo5RB4Yw\n",
              "1        TBJZL     4930000   530852593          896  UUfNWN9s_s8kRTCadk04WWJA\n",
              "2     Behzinga     4940000   572071510          866  UUHhfSXoDG6gSgpOvLH4wrRw\n",
              "3          W2S    16300000  4768551162          652  UUjtLOfx1yt1NlnFIDyAX3Ug\n",
              "4   Miniminter    10200000  3695385964         1888  UUWZmCMB7mmKWcXJSIPRhzZw\n",
              "5  Vikkstar123     7600000  2136827635         5021  UUvwgF_0NOZe2vN4Q3g1bY-A\n",
              "6       Zerkaa     4680000   774585520         1803  UUhntGq8THlUokhc1tT-M2wA"
            ]
          },
          "execution_count": 29,
          "metadata": {},
          "output_type": "execute_result"
        }
      ],
      "source": [
        "channel_data"
      ]
    },
    {
      "cell_type": "code",
      "execution_count": 30,
      "metadata": {
        "id": "DP8IupYSZy6Z"
      },
      "outputs": [],
      "source": [
        "channel_data['Subscribers']=pd.to_numeric(channel_data['Subscribers'])\n",
        "channel_data['Views']=pd.to_numeric(channel_data['Views'])\n",
        "channel_data['Total_videos']=pd.to_numeric(channel_data['Total_videos'])\n"
      ]
    },
    {
      "cell_type": "markdown",
      "metadata": {
        "id": "132fWROTaMAl"
      },
      "source": [
        "The playlist id can be used to fetch video id's for a particular channel."
      ]
    },
    {
      "cell_type": "markdown",
      "metadata": {
        "id": "4CaK0L5NaY2n"
      },
      "source": [
        "##Function to get Video ID's"
      ]
    },
    {
      "cell_type": "code",
      "execution_count": 31,
      "metadata": {
        "id": "OEzV7kO6abhL"
      },
      "outputs": [],
      "source": [
        "def get_video_ids(youtube,playlist_id):\n",
        "  request=youtube.playlistItems().list(\n",
        "      part='contentDetails',#The video details\n",
        "      playlistId=playlist_id,\n",
        "      maxResults=50\n",
        "  )\n",
        "  response=request.execute()\n",
        "\n",
        "  return response"
      ]
    },
    {
      "cell_type": "code",
      "execution_count": 32,
      "metadata": {
        "colab": {
          "base_uri": "https://localhost:8080/",
          "height": 270
        },
        "id": "BufbW8AKbPYJ",
        "outputId": "1cab9f00-a5a7-49f0-a0a1-8ea5d56dcfcb"
      },
      "outputs": [
        {
          "data": {
            "text/html": [
              "<div>\n",
              "<style scoped>\n",
              "    .dataframe tbody tr th:only-of-type {\n",
              "        vertical-align: middle;\n",
              "    }\n",
              "\n",
              "    .dataframe tbody tr th {\n",
              "        vertical-align: top;\n",
              "    }\n",
              "\n",
              "    .dataframe thead th {\n",
              "        text-align: right;\n",
              "    }\n",
              "</style>\n",
              "<table border=\"1\" class=\"dataframe\">\n",
              "  <thead>\n",
              "    <tr style=\"text-align: right;\">\n",
              "      <th></th>\n",
              "      <th>Channel_name</th>\n",
              "      <th>Subscribers</th>\n",
              "      <th>Views</th>\n",
              "      <th>Total_videos</th>\n",
              "      <th>playlist_id</th>\n",
              "    </tr>\n",
              "  </thead>\n",
              "  <tbody>\n",
              "    <tr>\n",
              "      <th>0</th>\n",
              "      <td>JJ Olatunji</td>\n",
              "      <td>16200000</td>\n",
              "      <td>4078019213</td>\n",
              "      <td>1288</td>\n",
              "      <td>UUGmnsW623G1r-Chmo5RB4Yw</td>\n",
              "    </tr>\n",
              "    <tr>\n",
              "      <th>1</th>\n",
              "      <td>TBJZL</td>\n",
              "      <td>4930000</td>\n",
              "      <td>530852593</td>\n",
              "      <td>896</td>\n",
              "      <td>UUfNWN9s_s8kRTCadk04WWJA</td>\n",
              "    </tr>\n",
              "    <tr>\n",
              "      <th>2</th>\n",
              "      <td>Behzinga</td>\n",
              "      <td>4940000</td>\n",
              "      <td>572071510</td>\n",
              "      <td>866</td>\n",
              "      <td>UUHhfSXoDG6gSgpOvLH4wrRw</td>\n",
              "    </tr>\n",
              "    <tr>\n",
              "      <th>3</th>\n",
              "      <td>W2S</td>\n",
              "      <td>16300000</td>\n",
              "      <td>4768551162</td>\n",
              "      <td>652</td>\n",
              "      <td>UUjtLOfx1yt1NlnFIDyAX3Ug</td>\n",
              "    </tr>\n",
              "    <tr>\n",
              "      <th>4</th>\n",
              "      <td>Miniminter</td>\n",
              "      <td>10200000</td>\n",
              "      <td>3695385964</td>\n",
              "      <td>1888</td>\n",
              "      <td>UUWZmCMB7mmKWcXJSIPRhzZw</td>\n",
              "    </tr>\n",
              "  </tbody>\n",
              "</table>\n",
              "</div>"
            ],
            "text/plain": [
              "  Channel_name  Subscribers       Views  Total_videos  \\\n",
              "0  JJ Olatunji     16200000  4078019213          1288   \n",
              "1        TBJZL      4930000   530852593           896   \n",
              "2     Behzinga      4940000   572071510           866   \n",
              "3          W2S     16300000  4768551162           652   \n",
              "4   Miniminter     10200000  3695385964          1888   \n",
              "\n",
              "                playlist_id  \n",
              "0  UUGmnsW623G1r-Chmo5RB4Yw  \n",
              "1  UUfNWN9s_s8kRTCadk04WWJA  \n",
              "2  UUHhfSXoDG6gSgpOvLH4wrRw  \n",
              "3  UUjtLOfx1yt1NlnFIDyAX3Ug  \n",
              "4  UUWZmCMB7mmKWcXJSIPRhzZw  "
            ]
          },
          "execution_count": 32,
          "metadata": {},
          "output_type": "execute_result"
        }
      ],
      "source": [
        "channel_data.head()"
      ]
    },
    {
      "cell_type": "code",
      "execution_count": 33,
      "metadata": {
        "colab": {
          "base_uri": "https://localhost:8080/",
          "height": 35
        },
        "id": "-eBnSJVpbT9S",
        "outputId": "42e0ed27-661c-4c6b-d23f-bbf500c7e487"
      },
      "outputs": [
        {
          "data": {
            "text/plain": [
              "'UUGmnsW623G1r-Chmo5RB4Yw'"
            ]
          },
          "execution_count": 33,
          "metadata": {},
          "output_type": "execute_result"
        }
      ],
      "source": [
        "playlist_id=channel_data.loc[channel_data['Channel_name']=='JJ Olatunji','playlist_id'].iloc[0]\n",
        "playlist_id\n",
        "#playlist id of JJ Olatunji"
      ]
    },
    {
      "cell_type": "code",
      "execution_count": 34,
      "metadata": {
        "colab": {
          "base_uri": "https://localhost:8080/"
        },
        "id": "s8fywl85bHJE",
        "outputId": "691722a3-a9e5-45ad-9ad5-7774bffad21c"
      },
      "outputs": [
        {
          "data": {
            "text/plain": [
              "{'kind': 'youtube#playlistItemListResponse',\n",
              " 'etag': 'dMvoPlmTBUGTM1L8wKBVsM78ja8',\n",
              " 'nextPageToken': 'EAAaBlBUOkNESQ',\n",
              " 'items': [{'kind': 'youtube#playlistItem',\n",
              "   'etag': 'D9qUX5FDZugpWIDLH82d82StB90',\n",
              "   'id': 'VVVHbW5zVzYyM0cxci1DaG1vNVJCNFl3LlU1Unl0Tll2Zk04',\n",
              "   'contentDetails': {'videoId': 'U5RytNYvfM8',\n",
              "    'videoPublishedAt': '2023-07-10T16:58:25Z'}},\n",
              "  {'kind': 'youtube#playlistItem',\n",
              "   'etag': 'UqPysJuJXuaWFmB0ymwuyD9CdJE',\n",
              "   'id': 'VVVHbW5zVzYyM0cxci1DaG1vNVJCNFl3Lm5wZ194QzBiYWx3',\n",
              "   'contentDetails': {'videoId': 'npg_xC0balw',\n",
              "    'videoPublishedAt': '2023-07-02T16:19:35Z'}},\n",
              "  {'kind': 'youtube#playlistItem',\n",
              "   'etag': 'CX61pMLUoE-3gzaarQJhPFbUBvM',\n",
              "   'id': 'VVVHbW5zVzYyM0cxci1DaG1vNVJCNFl3LkxZdzN5ZWE1X04w',\n",
              "   'contentDetails': {'videoId': 'LYw3yea5_N0',\n",
              "    'videoPublishedAt': '2023-06-30T15:00:24Z'}},\n",
              "  {'kind': 'youtube#playlistItem',\n",
              "   'etag': 'wi9VMmTM6tpGPY8-AZHTeSD0RRs',\n",
              "   'id': 'VVVHbW5zVzYyM0cxci1DaG1vNVJCNFl3LmkwRE1QNGxGbGZB',\n",
              "   'contentDetails': {'videoId': 'i0DMP4lFlfA',\n",
              "    'videoPublishedAt': '2023-06-24T17:35:37Z'}},\n",
              "  {'kind': 'youtube#playlistItem',\n",
              "   'etag': 'TRHKtnYyrJzdt38tto3FSXIeTr0',\n",
              "   'id': 'VVVHbW5zVzYyM0cxci1DaG1vNVJCNFl3Lkp2ZUxmck81SWk0',\n",
              "   'contentDetails': {'videoId': 'JveLfrO5Ii4',\n",
              "    'videoPublishedAt': '2023-06-21T16:00:26Z'}},\n",
              "  {'kind': 'youtube#playlistItem',\n",
              "   'etag': 'MqxQzxkLCRe1M6uoZtdD8UExC6U',\n",
              "   'id': 'VVVHbW5zVzYyM0cxci1DaG1vNVJCNFl3LnFrc2NLRXYzczUw',\n",
              "   'contentDetails': {'videoId': 'qkscKEv3s50',\n",
              "    'videoPublishedAt': '2023-06-10T15:00:36Z'}},\n",
              "  {'kind': 'youtube#playlistItem',\n",
              "   'etag': '-4gszUn6_GYvtn2kb3rrxF3lXac',\n",
              "   'id': 'VVVHbW5zVzYyM0cxci1DaG1vNVJCNFl3LkkyM2xkdDhQNTMw',\n",
              "   'contentDetails': {'videoId': 'I23ldt8P530',\n",
              "    'videoPublishedAt': '2023-06-02T15:05:52Z'}},\n",
              "  {'kind': 'youtube#playlistItem',\n",
              "   'etag': 'LEdYIMH6mYQqXz74FO3H1q8unmE',\n",
              "   'id': 'VVVHbW5zVzYyM0cxci1DaG1vNVJCNFl3LjF0c3B3U0tpYmww',\n",
              "   'contentDetails': {'videoId': '1tspwSKibl0',\n",
              "    'videoPublishedAt': '2023-05-29T17:08:29Z'}},\n",
              "  {'kind': 'youtube#playlistItem',\n",
              "   'etag': '5kvJDRych-NTdaiIb2dS23L17NM',\n",
              "   'id': 'VVVHbW5zVzYyM0cxci1DaG1vNVJCNFl3LmhIQ2Z5OGFabFhB',\n",
              "   'contentDetails': {'videoId': 'hHCfy8aZlXA',\n",
              "    'videoPublishedAt': '2023-05-22T15:00:34Z'}},\n",
              "  {'kind': 'youtube#playlistItem',\n",
              "   'etag': 'biqkNgUIF-OFGDxj2ZSj-Dy0rKE',\n",
              "   'id': 'VVVHbW5zVzYyM0cxci1DaG1vNVJCNFl3LmszVFIxOHhjWGJF',\n",
              "   'contentDetails': {'videoId': 'k3TR18xcXbE',\n",
              "    'videoPublishedAt': '2023-05-16T16:09:10Z'}},\n",
              "  {'kind': 'youtube#playlistItem',\n",
              "   'etag': 'RIGrUHNDiZb25dGBwpTTSNBGdZI',\n",
              "   'id': 'VVVHbW5zVzYyM0cxci1DaG1vNVJCNFl3LldnZU55aEgtNnpn',\n",
              "   'contentDetails': {'videoId': 'WgeNyhH-6zg',\n",
              "    'videoPublishedAt': '2023-05-13T18:02:06Z'}},\n",
              "  {'kind': 'youtube#playlistItem',\n",
              "   'etag': 'cH0UmrbFFbJpXXFkDsB5IiESAsA',\n",
              "   'id': 'VVVHbW5zVzYyM0cxci1DaG1vNVJCNFl3LlhnVkI1X1NSSXh3',\n",
              "   'contentDetails': {'videoId': 'XgVB5_SRIxw',\n",
              "    'videoPublishedAt': '2023-05-13T11:51:55Z'}},\n",
              "  {'kind': 'youtube#playlistItem',\n",
              "   'etag': 'NHlb7rbznLv7E00JDeEnxVNdqXI',\n",
              "   'id': 'VVVHbW5zVzYyM0cxci1DaG1vNVJCNFl3LnZuV0JpZE13OHNj',\n",
              "   'contentDetails': {'videoId': 'vnWBidMw8sc',\n",
              "    'videoPublishedAt': '2023-05-12T22:11:25Z'}},\n",
              "  {'kind': 'youtube#playlistItem',\n",
              "   'etag': 'LW-oI0lKODnWVNqfk472SVWo4ec',\n",
              "   'id': 'VVVHbW5zVzYyM0cxci1DaG1vNVJCNFl3LmtKS3AyQWR0MGJZ',\n",
              "   'contentDetails': {'videoId': 'kJKp2Adt0bY',\n",
              "    'videoPublishedAt': '2023-05-12T18:08:15Z'}},\n",
              "  {'kind': 'youtube#playlistItem',\n",
              "   'etag': '5aznUBMUjFRa5C_NbYmc_9LBwp0',\n",
              "   'id': 'VVVHbW5zVzYyM0cxci1DaG1vNVJCNFl3LnBNaHdSWlhHZ3NR',\n",
              "   'contentDetails': {'videoId': 'pMhwRZXGgsQ',\n",
              "    'videoPublishedAt': '2023-05-11T17:00:14Z'}},\n",
              "  {'kind': 'youtube#playlistItem',\n",
              "   'etag': 'HUxsWgj2eACK-ckcNzhU8kv-8ek',\n",
              "   'id': 'VVVHbW5zVzYyM0cxci1DaG1vNVJCNFl3LjhMX0l5M2RsaXM4',\n",
              "   'contentDetails': {'videoId': '8L_Iy3dlis8',\n",
              "    'videoPublishedAt': '2023-05-10T14:53:50Z'}},\n",
              "  {'kind': 'youtube#playlistItem',\n",
              "   'etag': 'hcF88c1SDt7bIk0VqlGKajKCpZo',\n",
              "   'id': 'VVVHbW5zVzYyM0cxci1DaG1vNVJCNFl3LkJOWk9uV29JaUlR',\n",
              "   'contentDetails': {'videoId': 'BNZOnWoIiIQ',\n",
              "    'videoPublishedAt': '2023-05-09T15:05:57Z'}},\n",
              "  {'kind': 'youtube#playlistItem',\n",
              "   'etag': 'WhqDGbJHu583G2mAfL6tdW-A-dI',\n",
              "   'id': 'VVVHbW5zVzYyM0cxci1DaG1vNVJCNFl3LkdQOW9ENVVHakJN',\n",
              "   'contentDetails': {'videoId': 'GP9oD5UGjBM',\n",
              "    'videoPublishedAt': '2023-05-06T17:06:02Z'}},\n",
              "  {'kind': 'youtube#playlistItem',\n",
              "   'etag': '-Ltvk0fINXVkOPTdgDP6tHwv2zc',\n",
              "   'id': 'VVVHbW5zVzYyM0cxci1DaG1vNVJCNFl3Lk5DNGpvQndsdVhz',\n",
              "   'contentDetails': {'videoId': 'NC4joBwluXs',\n",
              "    'videoPublishedAt': '2023-04-29T17:27:14Z'}},\n",
              "  {'kind': 'youtube#playlistItem',\n",
              "   'etag': 'DtmgJtF_sU9zzY2tbMENML-vLXk',\n",
              "   'id': 'VVVHbW5zVzYyM0cxci1DaG1vNVJCNFl3LlZlUFNxYVZrMlo4',\n",
              "   'contentDetails': {'videoId': 'VePSqaVk2Z8',\n",
              "    'videoPublishedAt': '2023-04-25T16:08:19Z'}},\n",
              "  {'kind': 'youtube#playlistItem',\n",
              "   'etag': 'T9sbdS_jh3Ygrr-8RnV9HeFl5nE',\n",
              "   'id': 'VVVHbW5zVzYyM0cxci1DaG1vNVJCNFl3LkxYSlJJUGZ1Q21F',\n",
              "   'contentDetails': {'videoId': 'LXJRIPfuCmE',\n",
              "    'videoPublishedAt': '2023-04-23T18:20:58Z'}},\n",
              "  {'kind': 'youtube#playlistItem',\n",
              "   'etag': 'gC9uEzhnsVu8tIVUv84TvoWiXbI',\n",
              "   'id': 'VVVHbW5zVzYyM0cxci1DaG1vNVJCNFl3LmczLXlaV3RRc0hj',\n",
              "   'contentDetails': {'videoId': 'g3-yZWtQsHc',\n",
              "    'videoPublishedAt': '2023-04-22T00:33:00Z'}},\n",
              "  {'kind': 'youtube#playlistItem',\n",
              "   'etag': 'WdDRg8b2vtQL8rBF983y725bc4g',\n",
              "   'id': 'VVVHbW5zVzYyM0cxci1DaG1vNVJCNFl3LmpvcDUwWVp3ckNZ',\n",
              "   'contentDetails': {'videoId': 'jop50YZwrCY',\n",
              "    'videoPublishedAt': '2023-04-20T21:36:54Z'}},\n",
              "  {'kind': 'youtube#playlistItem',\n",
              "   'etag': 'E4ykSU026GHKU-afAvEuYnC9Ofc',\n",
              "   'id': 'VVVHbW5zVzYyM0cxci1DaG1vNVJCNFl3LlBLeTd2VVFzOGp3',\n",
              "   'contentDetails': {'videoId': 'PKy7vUQs8jw',\n",
              "    'videoPublishedAt': '2023-04-19T19:11:59Z'}},\n",
              "  {'kind': 'youtube#playlistItem',\n",
              "   'etag': 'yCeh6S9HR4GTPm9vkzRoeEXuOh0',\n",
              "   'id': 'VVVHbW5zVzYyM0cxci1DaG1vNVJCNFl3LkNEYXItcF8ySm1F',\n",
              "   'contentDetails': {'videoId': 'CDar-p_2JmE',\n",
              "    'videoPublishedAt': '2023-04-16T13:31:04Z'}},\n",
              "  {'kind': 'youtube#playlistItem',\n",
              "   'etag': 'sbLiESG3y-rbw4A0iPtcWYugh58',\n",
              "   'id': 'VVVHbW5zVzYyM0cxci1DaG1vNVJCNFl3LmlDR19oTW9VUkpB',\n",
              "   'contentDetails': {'videoId': 'iCG_hMoURJA',\n",
              "    'videoPublishedAt': '2023-04-13T16:00:35Z'}},\n",
              "  {'kind': 'youtube#playlistItem',\n",
              "   'etag': '-eihzZ-5pAkHkZp_8HYjUJ0u59M',\n",
              "   'id': 'VVVHbW5zVzYyM0cxci1DaG1vNVJCNFl3LjZzUzVlcExxbzJR',\n",
              "   'contentDetails': {'videoId': '6sS5epLqo2Q',\n",
              "    'videoPublishedAt': '2023-04-05T13:23:34Z'}},\n",
              "  {'kind': 'youtube#playlistItem',\n",
              "   'etag': 'Hw1fKVRHuFXpyAFsPsZVEKO7STc',\n",
              "   'id': 'VVVHbW5zVzYyM0cxci1DaG1vNVJCNFl3LktBRXlodE95MzFv',\n",
              "   'contentDetails': {'videoId': 'KAEyhtOy31o',\n",
              "    'videoPublishedAt': '2023-03-28T15:34:01Z'}},\n",
              "  {'kind': 'youtube#playlistItem',\n",
              "   'etag': 'FIJY7Gud7yJKbR509sAhXOzr03A',\n",
              "   'id': 'VVVHbW5zVzYyM0cxci1DaG1vNVJCNFl3Lm1TYlFvSFFHSkZn',\n",
              "   'contentDetails': {'videoId': 'mSbQoHQGJFg',\n",
              "    'videoPublishedAt': '2023-03-21T18:18:44Z'}},\n",
              "  {'kind': 'youtube#playlistItem',\n",
              "   'etag': 'eh2zMfxUNpEtL5xFQxtRqA7jEbw',\n",
              "   'id': 'VVVHbW5zVzYyM0cxci1DaG1vNVJCNFl3LjR0S05vSFA0SEV3',\n",
              "   'contentDetails': {'videoId': '4tKNoHP4HEw',\n",
              "    'videoPublishedAt': '2023-03-20T18:35:02Z'}},\n",
              "  {'kind': 'youtube#playlistItem',\n",
              "   'etag': '_zq83vD0Rm4W0fnPja-KHbm5F5Q',\n",
              "   'id': 'VVVHbW5zVzYyM0cxci1DaG1vNVJCNFl3LlpzS3pKdU52emtR',\n",
              "   'contentDetails': {'videoId': 'ZsKzJuNvzkQ',\n",
              "    'videoPublishedAt': '2023-03-18T15:25:44Z'}},\n",
              "  {'kind': 'youtube#playlistItem',\n",
              "   'etag': 'AcyClOuaqhwBGrTAIZT7bMcKj2Y',\n",
              "   'id': 'VVVHbW5zVzYyM0cxci1DaG1vNVJCNFl3Lkl2NU9uMlVGVHZR',\n",
              "   'contentDetails': {'videoId': 'Iv5On2UFTvQ',\n",
              "    'videoPublishedAt': '2023-03-17T17:12:14Z'}},\n",
              "  {'kind': 'youtube#playlistItem',\n",
              "   'etag': 'EFYP7oBBm1MKOvhhA8sCHwCQbhU',\n",
              "   'id': 'VVVHbW5zVzYyM0cxci1DaG1vNVJCNFl3Lm1LSE5YN0J1dWc0',\n",
              "   'contentDetails': {'videoId': 'mKHNX7Buug4',\n",
              "    'videoPublishedAt': '2023-03-10T16:26:37Z'}},\n",
              "  {'kind': 'youtube#playlistItem',\n",
              "   'etag': 'csZxFxNQVUgLLeKmedr-dujkF8U',\n",
              "   'id': 'VVVHbW5zVzYyM0cxci1DaG1vNVJCNFl3LnJwTm5wRXltYVpN',\n",
              "   'contentDetails': {'videoId': 'rpNnpEymaZM',\n",
              "    'videoPublishedAt': '2023-03-08T17:00:39Z'}},\n",
              "  {'kind': 'youtube#playlistItem',\n",
              "   'etag': 'ga-yAvG4FCF-JFmiWoTHTCZ2eXk',\n",
              "   'id': 'VVVHbW5zVzYyM0cxci1DaG1vNVJCNFl3LjBEX3hvcnV1bUdv',\n",
              "   'contentDetails': {'videoId': '0D_xoruumGo',\n",
              "    'videoPublishedAt': '2023-03-04T19:00:35Z'}},\n",
              "  {'kind': 'youtube#playlistItem',\n",
              "   'etag': 'rRXkCHsdc63KQqS1JlEiMX3PGPk',\n",
              "   'id': 'VVVHbW5zVzYyM0cxci1DaG1vNVJCNFl3LnJMc2dxTk1yMkVJ',\n",
              "   'contentDetails': {'videoId': 'rLsgqNMr2EI',\n",
              "    'videoPublishedAt': '2023-03-03T18:51:14Z'}},\n",
              "  {'kind': 'youtube#playlistItem',\n",
              "   'etag': 'Ll8_mzbg0JMie9G-xlnUDIMax4U',\n",
              "   'id': 'VVVHbW5zVzYyM0cxci1DaG1vNVJCNFl3LmdxelVmTFRlZnJR',\n",
              "   'contentDetails': {'videoId': 'gqzUfLTefrQ',\n",
              "    'videoPublishedAt': '2023-03-02T19:10:13Z'}},\n",
              "  {'kind': 'youtube#playlistItem',\n",
              "   'etag': 'mh4vfSA0XbN1kBcxmLGEDgnfKUw',\n",
              "   'id': 'VVVHbW5zVzYyM0cxci1DaG1vNVJCNFl3LnU5MkNyTU04QzhR',\n",
              "   'contentDetails': {'videoId': 'u92CrMM8C8Q',\n",
              "    'videoPublishedAt': '2023-02-26T14:01:38Z'}},\n",
              "  {'kind': 'youtube#playlistItem',\n",
              "   'etag': 'j5_tgrEuqJ_gJBcNk-dGFZDN7oU',\n",
              "   'id': 'VVVHbW5zVzYyM0cxci1DaG1vNVJCNFl3LnlnX1cwOXJYX2Fr',\n",
              "   'contentDetails': {'videoId': 'yg_W09rX_ak',\n",
              "    'videoPublishedAt': '2023-02-17T18:34:28Z'}},\n",
              "  {'kind': 'youtube#playlistItem',\n",
              "   'etag': 'TiJt2-eO5LOuY5s-LlxjuaUqvcU',\n",
              "   'id': 'VVVHbW5zVzYyM0cxci1DaG1vNVJCNFl3LnpwckM5N2JydGgw',\n",
              "   'contentDetails': {'videoId': 'zprC97brth0',\n",
              "    'videoPublishedAt': '2023-02-13T16:00:35Z'}},\n",
              "  {'kind': 'youtube#playlistItem',\n",
              "   'etag': 'epJnWdrsp-EMJh7arviMzMbcI4M',\n",
              "   'id': 'VVVHbW5zVzYyM0cxci1DaG1vNVJCNFl3LnZuNmxZaUJOWnVB',\n",
              "   'contentDetails': {'videoId': 'vn6lYiBNZuA',\n",
              "    'videoPublishedAt': '2023-02-08T17:59:34Z'}},\n",
              "  {'kind': 'youtube#playlistItem',\n",
              "   'etag': 'WfMYpyn3utixnXcvCN6pCHIpx6A',\n",
              "   'id': 'VVVHbW5zVzYyM0cxci1DaG1vNVJCNFl3LmZ4ZTdvaWNnUzhz',\n",
              "   'contentDetails': {'videoId': 'fxe7oicgS8s',\n",
              "    'videoPublishedAt': '2023-02-06T18:26:57Z'}},\n",
              "  {'kind': 'youtube#playlistItem',\n",
              "   'etag': 'oYpaF3pu6KljeSF85B1Czedbqy4',\n",
              "   'id': 'VVVHbW5zVzYyM0cxci1DaG1vNVJCNFl3LnlZS21vOGZPNUFr',\n",
              "   'contentDetails': {'videoId': 'yYKmo8fO5Ak',\n",
              "    'videoPublishedAt': '2023-01-28T16:11:17Z'}},\n",
              "  {'kind': 'youtube#playlistItem',\n",
              "   'etag': 'skjWyU3g2MaIYQ0Ux7eUi6xxIYw',\n",
              "   'id': 'VVVHbW5zVzYyM0cxci1DaG1vNVJCNFl3Lmg0cGdwTlNMVXZr',\n",
              "   'contentDetails': {'videoId': 'h4pgpNSLUvk',\n",
              "    'videoPublishedAt': '2023-01-27T00:00:15Z'}},\n",
              "  {'kind': 'youtube#playlistItem',\n",
              "   'etag': '1Kb0Vh6ow3CusBN2CvQFvPHE5HU',\n",
              "   'id': 'VVVHbW5zVzYyM0cxci1DaG1vNVJCNFl3LmlId0F1ZVJMOTY0',\n",
              "   'contentDetails': {'videoId': 'iHwAueRL964',\n",
              "    'videoPublishedAt': '2023-01-25T19:09:39Z'}},\n",
              "  {'kind': 'youtube#playlistItem',\n",
              "   'etag': 'EyCkXX4lOSN3kK3gDmOGcelGBWQ',\n",
              "   'id': 'VVVHbW5zVzYyM0cxci1DaG1vNVJCNFl3LlhWdzF3Y3BqNnk4',\n",
              "   'contentDetails': {'videoId': 'XVw1wcpj6y8',\n",
              "    'videoPublishedAt': '2023-01-17T19:03:39Z'}},\n",
              "  {'kind': 'youtube#playlistItem',\n",
              "   'etag': '3V7gwu0IFg02uG1ZFNL1Tu0u8CA',\n",
              "   'id': 'VVVHbW5zVzYyM0cxci1DaG1vNVJCNFl3LmJ5c3hNS2JMckRn',\n",
              "   'contentDetails': {'videoId': 'bysxMKbLrDg',\n",
              "    'videoPublishedAt': '2023-01-14T20:52:46Z'}},\n",
              "  {'kind': 'youtube#playlistItem',\n",
              "   'etag': 'Se8FmrXadflW8c5acRj_KgN1ILI',\n",
              "   'id': 'VVVHbW5zVzYyM0cxci1DaG1vNVJCNFl3LlJpU196S2lzZ3pr',\n",
              "   'contentDetails': {'videoId': 'RiS_zKisgzk',\n",
              "    'videoPublishedAt': '2023-01-14T14:34:35Z'}},\n",
              "  {'kind': 'youtube#playlistItem',\n",
              "   'etag': 'wR5Igg1HKO3Kl4ZoEohjoPeJX58',\n",
              "   'id': 'VVVHbW5zVzYyM0cxci1DaG1vNVJCNFl3LlVYbmJLa1RIZk1V',\n",
              "   'contentDetails': {'videoId': 'UXnbKkTHfMU',\n",
              "    'videoPublishedAt': '2023-01-13T16:17:10Z'}},\n",
              "  {'kind': 'youtube#playlistItem',\n",
              "   'etag': 'v1Ka-Kx8pdY1yuj_uZDpXSTIz9Y',\n",
              "   'id': 'VVVHbW5zVzYyM0cxci1DaG1vNVJCNFl3LkN4ZFdRVnpqSUhR',\n",
              "   'contentDetails': {'videoId': 'CxdWQVzjIHQ',\n",
              "    'videoPublishedAt': '2023-01-13T14:12:09Z'}}],\n",
              " 'pageInfo': {'totalResults': 1288, 'resultsPerPage': 50}}"
            ]
          },
          "execution_count": 34,
          "metadata": {},
          "output_type": "execute_result"
        }
      ],
      "source": [
        "get_video_ids(youtube,playlist_id)"
      ]
    },
    {
      "cell_type": "markdown",
      "metadata": {
        "id": "5hY3XpPscO5k"
      },
      "source": [
        "We have gotten raw data of video details for couple videos as we cannot get all video's details."
      ]
    },
    {
      "cell_type": "code",
      "execution_count": 35,
      "metadata": {
        "id": "l_Pu6255b0i2"
      },
      "outputs": [],
      "source": [
        "def get_video_ids_v2(youtube, playlist_id):\n",
        "\n",
        "    request = youtube.playlistItems().list(\n",
        "                part='contentDetails',\n",
        "                playlistId = playlist_id,\n",
        "                maxResults = 50)\n",
        "    response = request.execute()\n",
        "\n",
        "    video_ids = []\n",
        "\n",
        "    for i in range(len(response['items'])):\n",
        "        video_ids.append(response['items'][i]['contentDetails']['videoId'])\n",
        "\n",
        "    next_page_token = response.get('nextPageToken')\n",
        "    more_pages = True\n",
        "\n",
        "    while more_pages:\n",
        "        if next_page_token is None:\n",
        "            more_pages = False\n",
        "        else:\n",
        "            request = youtube.playlistItems().list(\n",
        "                        part='contentDetails',\n",
        "                        playlistId = playlist_id,\n",
        "                        maxResults = 50,\n",
        "                        pageToken = next_page_token)\n",
        "            response = request.execute()\n",
        "\n",
        "            for i in range(len(response['items'])):\n",
        "                video_ids.append(response['items'][i]['contentDetails']['videoId'])\n",
        "\n",
        "            next_page_token = response.get('nextPageToken')\n",
        "\n",
        "    return video_ids"
      ]
    },
    {
      "cell_type": "code",
      "execution_count": 36,
      "metadata": {
        "colab": {
          "base_uri": "https://localhost:8080/"
        },
        "id": "NrFQRLjYn3SA",
        "outputId": "0fb6312e-ba87-48ff-a977-137d45fbc40d"
      },
      "outputs": [
        {
          "name": "stdout",
          "output_type": "stream",
          "text": [
            "['U5RytNYvfM8', 'npg_xC0balw', 'LYw3yea5_N0', 'i0DMP4lFlfA', 'JveLfrO5Ii4', 'qkscKEv3s50', 'I23ldt8P530', '1tspwSKibl0', 'hHCfy8aZlXA', 'k3TR18xcXbE', 'WgeNyhH-6zg', 'XgVB5_SRIxw', 'vnWBidMw8sc', 'kJKp2Adt0bY', 'pMhwRZXGgsQ', '8L_Iy3dlis8', 'BNZOnWoIiIQ', 'GP9oD5UGjBM', 'NC4joBwluXs', 'VePSqaVk2Z8', 'LXJRIPfuCmE', 'g3-yZWtQsHc', 'jop50YZwrCY', 'PKy7vUQs8jw', 'CDar-p_2JmE', 'iCG_hMoURJA', '6sS5epLqo2Q', 'KAEyhtOy31o', 'mSbQoHQGJFg', '4tKNoHP4HEw', 'ZsKzJuNvzkQ', 'Iv5On2UFTvQ', 'mKHNX7Buug4', 'rpNnpEymaZM', '0D_xoruumGo', 'rLsgqNMr2EI', 'gqzUfLTefrQ', 'u92CrMM8C8Q', 'yg_W09rX_ak', 'zprC97brth0', 'vn6lYiBNZuA', 'fxe7oicgS8s', 'yYKmo8fO5Ak', 'h4pgpNSLUvk', 'iHwAueRL964', 'XVw1wcpj6y8', 'bysxMKbLrDg', 'RiS_zKisgzk', 'UXnbKkTHfMU', 'CxdWQVzjIHQ', 'O6uH3THa5xU', 'vSPOyqulBlg', '6NVCkSZf91c', 'ETJZepkfH9I', '7pD4r4d8kUQ', '2q_P0RS8JaA', 'CzVgdx20l9k', '7ushg6kQHiQ', 'YS_CkXmFrbI', 'cKgLowhoQ-M', 'WRG-2Ae-Ch0', 'mACrgq33ESw', 'IwWtlreKO4s', 'KJsa6XcHWgs', 'y377mGMFaxc', 'dR_NNYj8uPc', 'zP26BcLPIFQ', 'AV9akbzb3hc', 'LSUFJmtWx-E', 'acSb4K7FSMw', 'YaXPATZ_cB0', '1Bju4aZriuI', 'FepuXBvG06U', 'DgdmX5F0KWE', 'l1NNc3I0jFs', 'XreCah5Idjg', 'BmJoACNf2uU', '64mYIUmQsmI', 'bxI7VzddHyI', 'PEzRoqMaA5U', 'vM8-c-4q3BY', 'RTW6keQqNNw', '2WrX8QMbXMQ', '0cxqzK-iD40', 'HZa9jn-ovLg', 'EmehQ-y0IB0', 'b8vgV-ddRYo', 'sAJZ5dzhYrc', 'Qt8ugeD8oco', 'hGEUCDmSAD0', 'afIMsmSssw8', 'bPJdhFP17bY', 'nOeaJ0jkiBo', 'IavJBI4Pgsc', 'y6qtCRthNcI', 'z4IexJVH6jY', 'XXUIJQH6UW4', 'QsjhZXKKoiY', 'Se19vbtubwU', 'dWZXFYWi2SA', 'mIVVeRUizWI', 'WQGD8bmRnWs', 'rIcZ98w5qSA', 'cABsesCGPtM', 'H9GEmbu7s5Q', 'lg0ko_g2mwk', 'lSNNSfjRoxQ', 'xnMeTbUVsOM', '2K43HUGuwxk', '49P0w-2NrtY', '_5olFODPeoc', 'uakLKaeO6Q8', 'vC8NPK13IEY', 'T6Ce0HZ8ZHw', 'lmv1G1WCPqI', 'Yin5xO_MHFk', 'Nwonv5VGHJ8', 'Y18h03lFJsY', 'NBXcEO6t2Ok', 'e3QmGS4yDTI', 'caX_coHk1OE', 'WxHRKCgCtDM', 'IlFx144yIMY', 'Brje__8Xvmk', 'iv_W49Us0dg', 'PhUWOmnPhw4', 'EJx-3H9UFFw', 'eIW03jcYps4', '0uOwXXtGZvk', 'JBW2dk2_kHk', 'fNQe3ClfujU', 'pKL7dmQVrE4', 'BeJ1rnFJHfI', '5p-nmsEpPFA', '4_TyhOeTWyQ', '_kd_1EAn-uo', 'L69Wt-5d8rE', 'F1Bs_uMGA_I', 'VbHmDskViKQ', 'RgwYDGQWfGg', 'rupJxP1I8DY', 'WGnu3SZizPg', 'hHz8LXXOVjw', '0BejyjxoeqE', '2IHFgqrBlyo', 'wkJDSLV_r04', 'IvTfJ7DMTVA', 'sC0ghOLNqP4', 'k2dk-AJUn_M', 'KixViowwuwY', 'RKF-jsFhwlM', 'Bnft26rBYqo', 'YT3TVIU_v5I', 'gpFqkG4sfyU', '3uSzNKJFw88', 'qVvoNCXw4a0', 't150l6yGndg', 's6bKvEwd0jc', 'a0BWo9fs7Aw', 'EqbrCu8SQgI', 'Fjcpim3GLRg', 'zuvoUgmNVgI', 'hfNjIj32Sbg', 'HmSno9SaOKA', 'ubz95toPbF8', 'Dlt_cN74Vk0', 'S5eh9ScYdks', 'iWf_d9A95Cs', 'lHP1_oECCRo', 'IYMN4oTxZk0', '6YTLqM7ko6g', 'ULid0P6lbOU', 'arSl9x0aslo', 'jdYCqLlvStk', 'xh1mM4hE0q8', 'VlqPCQgpb7g', 'mUh-Fd6wqhw', 'SOo564Eu9h4', 'AAu1hn55sM8', 'CEa-2WH8b1Y', 'BFIfql5eKCk', 'mU9SgaZajaA', '85_2_U_CrrI', 'eRC2OGo_dvA', 'f18AhYNbCsw', 'eLQZw_iPaxo', 'KjO0NdFulTY', 'ZiMyyWXHBhw', 'DqMkwrjwwNE', 'SzOl5f4U_v0', 'dL3jzzl20Mw', 'BD7InnenDSU', 'zUty_JOELdU', 'cpIKwd-A2YU', 'gMtMiMDZV0c', 'aiBNnrGk7Yk', 'QhlHC8sLSTk', '_URyIGCazVA', '7tuE6oHfCOA', 'v8uEPnE3T_k', 'l31WjkKCBwo', 'eg-z-pR_1ss', 'TUFfxYgpHRg', 'Aj86W8rbPto', 't8fic9k4DN4', 'p-puY1jeZyc', 'ZCKEmp6Pn_c', 'BqRS86SCiQ0', 'UKgMDTeY_lk', 'G40_GwFK2tU', '2fBuqWhOBh0', 'LIRIsGzX_Sk', '8JnQfmT0ing', 'PhQEtp-BWlU', 'DDf0AbaVMx8', 'KUx4EsESRGY', 'cyZfBG_Gf20', 'MVJCRmS1184', 'ozvFsJRtuZw', 'ee81YSt4cIM', 'aZCQ7Jn5BOA', 'XW_jRyyU1RA', 'Jy5zz8X36y8', 'VvJIeryySmo', 'WhOt9f0p458', 'y3udAVfy4WQ', '1MC8moRwDDw', 'k2wBGZFEFq4', 'VndMF0Wsaxs', 'bY3_ej9rL1Y', 'RpaRXM4howY', '70bxpAmDy5Q', 'zfz0L6SS0n8', 'yZaJFIwMeUE', 'QJ0DGUA6zYg', 'YYLUk8DxJGo', '20hejQrdeMQ', 'OfXcU86EbX8', 'aXe_PQU47MQ', 'HQjghUveQns', '8m48GMjL2TQ', 'YGMFD4p7fVE', 'QqIhqZZ3VQo', 'CNEOT2EIcmw', '8bjJrCL9UUU', 'FQRQ_6tY80s', 'unIk2247QVY', '7-e3akEs-ZI', 'rbkKFm-jYAg', 'Z2gELrRYme8', '1LVqUJH4AYg', '-zrZwjS9mwg', '4eogv453Mas', 'Z9YD-2xuwZQ', '3emxZnSwa5c', 'v72tD2VAVWs', 'BP_Clx6qjMc', 'jfo8z1Azr2o', 'IRiyiNbE3oE', 'jNir7ZlKmF4', '-QAYxXgYpyE', 'E0HyNefTEbQ', 'BUYDkfMD7S8', 'q9I5yM9ply4', 'uTdTIccr9uE', 'CTxBzc_fj7Y', 'u4ZJTLk1zok', 'g_uRK3JExqY', 'xsI0KiVQOAw', 'DYMVu2T0cnI', 'dJzEfXOvyj8', '4KZBo16iY9Q', 'BimC22lcIiA', 'JGiPamSyQ-A', 'devbdZBlJSw', '1xDEw_CDSnc', 'arMDHxYcZIE', 'Eyfb1ODQHyA', 'pQO22PkUBUs', '9775dVpwMAY', 'IInMFMuouFY', 'QQ5IpRs7ovo', 'otQb-1UZfgk', 'YMStxjV7Aik', 'Dgw5qD17JTQ', 'iioiy8TIL3w', '6BCUIT70fWs', 'BVswFUueW2M', 'orCTOt80rg8', '4cEK_mrPvww', 'uJuhLHA5dm8', 'Q_ncMJYcoGY', 'zNPeBF8BRM8', 'TxPFYnL_5X8', '8ECH06dBhmc', 'eFut5i0otw4', 'uaQOkahQmYg', 'tnaL9vZP43Y', 'PN5YWJfvNvE', 'NAkf7viDPVc', 'hevDoqLuTBU', '30MSOEXiDG8', '1SDZGjIkWjA', 'Im3GyfWilB4', '2CgrIhhhytQ', 'uzUKLpNmCmM', 'ktHooXeU6r4', 'nbnXNKk0q20', 'ZGwHNN9WmdY', 'ofwaqDVTdHU', 'Jh_RkJ1dta8', 'dkfTYOr0OSI', 'ZNo1S2dZWNY', 'lyy9amrxEwA', 'SlN9CDJjlpk', 'pwCLnXqmfPo', 'OHyaXV-QTbY', 'D5RhT_XqY6w', '_bRAWN56UdI', 'XFcf1O-pd2M', 'HeRNFoJmjIc', 'wa9_21WB7MU', 'rivoch1csE8', '2p4WkzT6wLo', 'SyicOn_6ey4', 'gXG4HCKbU_g', '66RBnF-24BI', 'yd4bVWLR3T8', 'iClS39AsuLs', '1YZzqmA6QFk', 'GG5LjRd4T0E', 'dHMy3Ywz-Yo', 'k5RGcJMm8XA', 'sKPT_HK9DdA', 'oq-dwFrzK4I', '9nGvpuaw_bw', '7S_avUe_NK8', 'onUqdYXEZ7I', 'xSdhMFKhWDI', 'I0kWoawmDBk', 'vDPtxIZMWlc', '8cjr8UqGRus', 'Fy6p4uDXqWo', '7sXliaI4Wbo', '_U48FcrwHJs', 'u2cNHLz7CRg', 'j4KMEAYv8NA', 'xScaE1TWLEA', '4XDqgr-rYcs', 'VlLoZnGd3ho', '05F_aiXjT7U', 'z_nFaRbFRPU', 'OPPFHTBk1bY', 'wvWZsViMm7g', 'Ox1DmJtlu4Q', '7Mn_qo9gLTE', 'V1_AM2b9zgc', '65b59TkYFBg', 'h0d7eLsls60', 'PvEzoizCflA', 'zfgp9o5xisw', 'Bsgxf9i9gFU', 'ZjkyMNDjsp0', '1gSV03tmaN4', '0wOJnSY9_oY', 'pdj5IlL4qPI', 'z3hIOpYPagw', 'jgO_ytWIhjw', 'AWhFQ25UwFw', '0-UFTpfgOQU', 'pvlQG9o6yOw', 'tc-YlNARdNw', 'YElZT7KWqcU', 'hjrfOcw_jdA', '4zAeQro0LP4', 'M_omV4P0c6Y', 'oMIRi2eTgb0', '6ztTmCH2dGE', 'y9D4SHCSZRw', 'xndaIg-eEBo', 'WqQYPSjHXow', '9XPjYmymA_k', 'll95cpF9DH0', 'iJUc9KVzACA', 'ODVAnlNtwbU', 'rxnmLDvbo9I', '77aEViI6_wQ', 'd5_7wsSrnVo', 'H7TwljrQQu0', 't5n14Fm2v5c', 'DdFCqE1Xg5s', 'mymTs__ehh0', '_7LiCE0vLJg', 'rAhfBso8Mis', 'gSw07gJ-7Ms', '5cuzRt-k_Ls', 'aT52y8uvqo8', '6odyj7Xf83g', 'DMNr5RP4qZo', 'TaxRGqv6E1Y', 'OvMuRgHWFMs', 'wgcLZnLpsss', 'vyl7J9XH0Ko', 'N_6o7eVk8KA', 'fCAAkZ1j3uU', 'aXVfzpz6hok', 'c_F_NLLrLng', 'QnGqcSRS-G8', 'CZbpjE7Scc4', 'upa5p1QpLjA', 'SR_rdONusqc', 'liziJiCIBR0', 'Nx7sQNNH8QQ', '2MIfgdYUfw4', 'Jp-c-nyFJRY', 'cX8245J7xLc', 'dSvGzmOY4Mw', 'svQczVSLnQ8', 'qcDO1bmXJHQ', 'OODI54jXHoQ', '-vC4RhfK2j4', 'jnEW9u_-p9M', 'lyT7_-kX9nA', 'SZVzl4OZrSg', 'VXvaQ1MBaf0', '3k7HceYSSTU', '3XR12erXSwQ', '_8L9sa9RieY', 'ynU1FYXboyk', 'o5seS2uPjl0', 'IZMNx8PoqUY', 'ts5nrPFA5H0', 'i-Mv4z_B4pE', '6gH5pUbBDE4', 'ISaYXWfSfrI', 'xlw3t-EDC84', 'b2kOgX84l1A', 'GBKzBe2fj2w', 'xTE5oguIxB0', 'kwSODzbVLPo', 'xZlSKTxN4P0', 'vvLNWe4d_C0', 'D2veCsp4f7Y', 'FhA7zBylpKI', 'uMut5sKod_8', 'fvpwcK7Ckf8', 'uA421bOFD9E', 'CzLG84qTZ3w', '87blPQ89u7g', 'T0kTl9IxBPo', 'gUMerOTjIo0', 'gCxfvG0RFtE', 'ranizNDN6-M', 'kpkG0ofRgys', 'py6P-vYLORo', 'Et5y4lxylmE', 'uBZU0c_ZTjw', 'AHtg1chv3q4', 'KYAI5f_IL0A', '7RO56r_aIuI', 'RVbagq2T3_w', 'lyarPFYRH8w', '5ycVjzDep3w', 'vOLk9Hz8pnU', 'A3YEv63E3O0', 'E0XYPzWuUNM', 'aN7yavP9lfU', '-NtadR0-ino', '7ldZpMbLECk', 'sB7ZnWex920', 'DZI2-Kwo_cA', 'm_JjD9CB1jY', 'EBeSqtK6zU4', 'uA199ylQP9E', 'UCX_BAQSIlM', 'U7cMjfajX94', '-h0MaGc7nx0', 'lVk1DJBb94w', 'dtwxfl51bac', 'zFK8WutYsEc', 'c93MtGT6d2k', '2LxO8B8lYvo', 'eAVR3Y9e5cI', 'YUX_MJjPcBk', 'p-x21cIgpBc', 'zVrhS8hohto', 'SNHzkeb5DWM', 'NEMITTSHxgM', 'Wbv9yr8WAtc', 'H-JVBgbBIMU', '4St825ZMnDk', '2oSGqlMe2yA', '3tDxUFUUx8k', '_V8XujNpPm0', 'hRweqOHDrcA', 'OXEp8sNOMJM', 'MXS0cvlpNsU', 'RLKMAh-yGl8', 'mSe2opA1P7k', 'uLkZ6A5z0pQ', 'zDUaZEEWyHs', '8b7mG7r14SM', 'VKxH-c5Tlmw', 'jo6bSPn8lWY', 'uBGlTvtaeTk', 'sZnLlxHnlAc', 'yCTRDMVYKew', 'iFIjR-mcw30', '-_-mUu1Jc_I', '62B_JagxW7I', 'ct1UijxkTSk', 'pc2VCnAaDRI', 'FeH_jtcUm_Y', 'kZhu4B0beFk', 'YEismlkinnc', 'bqS0lf0ec1s', '8nMrDKWjYGE', 'Dkzly_5Xv0c', 'F58upd2uzFU', '7YTpfxfqJbs', '-Db0iETHMBg', 'jcuGnZKsCeA', 'SxGtZzS3YBM', 'sxuPwxOgMnU', 'ITLFHVJDoEA', 'RwUM-3k6dDQ', 'LKCUXrmsmTY', '115JqWr3Y3w', 'nOdndEyhJs8', 'buIL5s3BAlI', 'WAixUtQT6A4', 'Iv93R4Kpgms', 'jofVkHRkft8', 'hzDGgyPVRIM', 'AhOQ5WOe6bA', 'AfX2_lOznxs', '2cbs2Rnihq0', 'B5hJen3S788', 'VsiGcPEyZSQ', '2mIKIyuiZNE', 'U6LQV6xIYDA', 'hzAS-Adyta0', 'mEAF5IXZU_g', 'QMwHVfmUCCA', '9E1wqaMibMg', 'LOk2aOfU3AI', '5Pwtv9Jy0js', 'zG4LiTs4KHY', '-84c3WK4d3I', 'dq9Q3GJssSQ', '62bM2iIlPOk', 'DztgjUc5KTM', 'QoTSwDyGNB4', 'Edcbx_NMhUM', 'tQwWBgB0kyQ', 'yWSbjkCZ6Ag', 'SFg1erngjto', 'LcN8LI5IyZE', '_ZH3pF0U-dg', 'Z8taqCTNLkM', 'Ez20Jmy7fEU', 'S6bk4h1jgDQ', 'ojn5Aivb8AE', 'IDTnaVgMKjA', 'xoO-eW5o8Fs', '3Isnmk5mjxQ', '1icCSqrFCyQ', 'zLstFUO8VE4', 'od4cingZoB8', 'CkyBZuuDcl4', 'Z02vTgKfcKA', 'BlEmeE1aOV0', 'kiyPi-SnEc8', 'kNrkqBs-26A', 'sn4fgTiKbeY', 'EIuP_IIJWCk', 'ks438rUIDWk', 'qRY81bnKDPY', 'vwBKdfv9mtw', '3NpIwNoMybw', 'JF7UkyxWd5M', 'MwmeyglH3fc', 'TbxLugtzYXA', '7g5wy-Ns1i8', '09PGErfCZyg', 'EEpTau-sFzI', 'f7sQj18BXRY', '26JDTTmKsKU', '7GdgxgG6XVg', 'IzwgAtI6YsY', 'zZCbUPNTpf0', 'mvSjs-PfoMI', 'YW01EuI6daw', 'y5HcZlAyfxo', 'wrQKw7evRKc', '1-aUxAR2s2w', 'e_q5_Xsig_M', 'Fm-wmnsTrdQ', 'YfmAPlbe48g', 'ujKHif9LB-c', 'whBJcpbfrJ4', 'QxmplNRjduY', 'chwxCBaKrTc', '8l7z0Mc-kTo', '8OwGsXueAN8', 'g7NPon2ab0I', '6swG0H5ePQ8', 'wpU8ACF_A4o', 'Joi-xm0edxA', 'NsW7rHnLXyo', 'NmVqPF339lw', 'CA8XR8-CVmM', 'wsXQTlHV3O0', '2UxbevC_xvU', 'GjhbtdUsVGc', 'LS9XQ60uw-A', 'wzaILMw0YYE', '7lCNDhPV4zM', '9_3jJhbml9s', 'fXc1DN85ofM', 'g8DMJwKtkAw', 'XAaR8P-51vE', 'irHjw4H3OvI', 'PQfv6niiBnI', 'oDhb31XwKTw', '7_cOHiT-0zU', 'y2wNsllpZ4w', 'IH5oxdstYMM', 'hwT6-O_T73A', 'OkowIeARlRQ', 'ldh6tyrCFp8', 'BCla-TxMLhA', 'qmwwVvEjWLM', 'lRpf7zOndCU', 'DpjZ5s8004A', '0784EYLszOQ', '69MuoBN54Xk', '6_1ZJsKmDfE', '9uQLAZHkEtc', 'S-RNLKwW6Yw', '9mg9JQiubQU', 'JJ02VsilB9o', 'ZR5Ng9qf7dU', 'K9WGxBYFCl4', 'LMwmFhJaT8c', 'Y3OlyJdHjoQ', '8-tN_nfo5wI', 'HbLx8rf4e4g', '9GTHxlLm96g', 'LbmOsMjtyrE', 'JKSR53nuAEo', 'mADQU78w_QM', 'j2cUiQSHd00', 'rCeJAumQG18', 'JAIXGAUCjQE', 'fuubyDLHVtM', '1bCP0hjAAWs', 'vZyHc-5goXI', '9dl7aDsJ1Oo', 'QUUXV-0kdbk', '2cIuZKtwT7k', 'XpjSu6S-JLY', '9pbbs3-dOZ8', 'KTL15Zikyfc', 'wpjEcXlJFyY', 'kq2UJ06igoM', 'J7X6cRhvxC8', 'sGoL04FfwYE', 'nfDt_R54a90', '9v9Lb6gGhwM', 'RAtWPS5qeFs', 'lcJFecoMhCo', 'fTzO1QK3Zo4', '1awJQWbSQcA', 'td4Z0aPKQmo', 'Zbck99hz_dU', 'yVN_U_jaxws', 'pc1cWhYZOnw', 'Quf0Dxfg_as', '1vpOKHIPCNw', 'TSDjQ1wBCRM', 'EbAX6bbLBxc', 'TWRXZefcvqg', 'Tbl9hlK2aTw', 'nFO3ybLnyO4', 'ydGUXynEBZc', 'RKYn8uPV5Q4', '4u1Fil-dBFw', 'uOJHvaEWnIs', 'HoGZ1gmvJUo', '9rl1JxEL1yw', 'SwqytU6bMhE', '1b715XDZTf0', '0Z7yNHE-0YQ', 'x-wY4mK4wHI', 'Sb0pGMTJjvU', 'gQ_2x-DMEZs', 'yXEnCuS0PEA', 'Rw-g0FhNAI4', '-GtxuNYu3uY', 'WbSdbtQyUhk', 'h1K3M0XSAMU', 'PyBKFbx0kmg', 'ODxRt-Krn_w', '8ts2Wx3AY0E', 'AW7EImLWjh0', 'gDteWfzRPG0', 'zm9NLGLGZx4', '2q7AwPJ_fkk', 'kFGN2qEZzv8', 'xOtrVaceBvA', 'px3DFmL44mM', '6cuHkGe9S3M', 'GdXJck0eo6E', 'N8hs7SYG14g', 'zzj5vmqGXeI', '4T4Spz2aZ8A', '5cD-ujy2Q5A', 'R7TGUckIFzY', 'ywlEEOtR6s4', 'ijDFpyXMcHM', 'lAUxxjedcOo', '2zbIozSnucw', 'yQufIAus8hw', 'V2XfdPB6b1g', 'ZXj5stO4J3g', 'RssANda4bmA', 'R_11EwvVSlU', 'ecGHFLNZrMw', 'MgdsQsM-OVg', '3lDkJHTHuWo', 'ymsg7JNPZRw', 'LB-ygkHahKA', 'klGXN5XIjU4', '3MqmBVizB2s', '7lh9SwxSuJs', 'f3aUU0FTaDA', 'hI_NognK7-E', 'JdD0pgDOwXY', 'jLE-uEi2Csw', 'xQRh-rBmR50', 'ZZP9Fa0MC3M', 'KNfmFiyTwrU', 'Q0lZ8KMN_WQ', 'wp9yLoJo8gQ', 'crK7dJvvCfw', 'O6giUvBflyY', '7wOdrGDBSkI', '8sn0YbS2nwo', 'LVlNgexMHJ8', 'A-CFO-KvJ4w', 'g4Ccc60sgEQ', 'LaTaBna8yW4', 'vDuQDBLw1F4', 'hVaDssp0DlU', 'DTqTs15Hc9w', '8cXoljI33Cs', '7_F_NXYmY6o', 'j-rpD6t6UvQ', 'bnKZ3vNm75g', 'viSHRDFwcuI', 'EliqQ5Klo1w', 'VOEZqePzjWk', 'RYtjEk71fmE', 'XpZhLOCEDiw', 'FItMDIIQmyM', 'yCPNF4r7BCs', 'GwyupdQXcn8', 'wTYelXIACOo', 'reh1A6Yy_gw', 'YLhbpW-Yy0k', 'DBu4f7G8kYc', 'mGOx4MHl5mM', 'OtxZo6h5was', 'rXmE1MgAXzU', 'U8b5t2-LovA', 'dx-qSW28-3U', '6bI8YLHGdM0', 'uzT5jGjxpnk', 'nfgwpgg47Ro', '9gowpZhlHBE', 'QDAD1dul3PE', 'sudNaUI4f-A', '-9XUB_gPNKw', 'kLDeIx-Hf3s', 'IKbomEx7P_I', '0UJqzAzPfEw', 'UK46_FOq83U', 'OENIaX7gy8g', 'FlbKgqJP9v8', '2sKfXHWvq3k', '92uVneWNZBI', 'tkMxC1YUmCc', 'OJmS_FEb7z4', '7l_mynvFn60', 'e6tFmaoH7TQ', 'SNcUrNJXf2g', 'id1bzdOKCTU', 'wX9feHoewhI', 'jFGuzww0RsI', '2WnNjwBcIGM', 'v5Xqzwj5YDU', 'uhyXkpinZMo', 'j9R6reIkCYk', 'WA9l1By0a4I', 'bzj6KupKvxg', 'jqiuzOZ2Oik', '0WwHEW5l3dY', 'ypAixmsI8wQ', '2wyizwtGhCs', '0uQi7uiG8qU', 'U1p9E51CzFU', '_kjbjq2skHA', 'Q6YmJGlBfh4', 'rVOaz357su0', '_RiElyC37_o', 'oNd2VRKAdhw', 'ov83qYQv5mQ', 'guNO8_nV_D4', 'BaC3dkXkbF8', 'r_tVM8WFjq8', 'NrCJDAFP0eU', '_kqFPn3vVA8', '9AtSOaoH05Y', 'x7CXwLbWi_U', 'Udr2fRvYVY8', 'CMYPPAS0fOw', 'K8zf7EkImGE', 'wUz6F06ylRk', '5HsOpi-q5UI', 'SrghszfEBuM', 'D-b8_FcXEG4', 'qXTlqRkz_rQ', 'gNIq-9P5PyA', '6haLvHDJNMk', 'dwfCsnmrX9s', 'y0EGc5GrjsM', 'OT5_QLaD8bM', 'PRE1lRi3hq4', 'wyVzT00I3BM', 'ksQt76riI2Y', 'PYVVZNr8DmE', 'ooV0wjaH5AY', 'zrrICMmNBXA', 'lXYQjotv-7E', 'DtDjll7a1VQ', 'aveHK5W9UfQ', 'qRxn2ah9ExM', 'pmBFuaScXO8', 'u0wIP584eEU', 'SmwwJYEsUaM', 'qBqipTB0v4I', 'bJAEVYL9vOQ', '0TeySy-4pfc', '5vwb6F-48sw', 'w3D6SRS96LI', 'Bo4g3Lw5q6o', '8cZ7LIUwTgI', '5nCkDrZFma0', 'iVUuYFpBiiA', '-4ZM17sCGjQ', 'uJK-LjKBzog', 'v_IJHrUjGGc', 'XVyNHmGUCwU', 'u86e30i0m1k', 'Tvocg6qZduI', 'V8ukgLRx27Q', 'dMN9e7a7kI8', 'i9Li3yAix7o', 'm3aGZVLhxT0', 'b3OcaCnAqNA', 'P0FsfE8u2d8', 'HtiEPq5jIE0', 'i_u5MOmS9a4', '9F26EL8jO9Y', 'sjiLnh0by9U', 'cvMkAhSfB_w', 'xXytJwCKDZk', 'vCVe8N95pwA', 'gFcv1o-R-kU', 'Q5rM08oaC5A', 'jhjxiOdEVZc', 'osmeRKh-tc4', 'qL1HNArAEU0', '9TC3S__KZ-M', 'ZkQzHLdBHuM', 'b5Pd3khKeXw', 'ObSx5XCPOGg', 'WmvrVrj4n0c', '7qoT2IjcrT8', '9t6k6ZgKipM', '3uLbupGCdNM', '_EeABVYIlFI', 'QpRW9Vb0jzU', 'jR3YksbbHkc', '4Q83d9euC-E', '0_mahn8RjTU', 'RIXcMtY_2uw', 'tFTjCnm96p0', 'Oc5ymuNvdos', 'MWHY-BUT4q8', 'F3vMAwKHQaU', 'AuYswntOWoY', 'yPMaTmvFjxI', 'R6c9GD9N8tM', 'wQ6AgsTGbkk', 'wkYXsQHbzik', 'r-iSVdbSl1w', 'm-pSAKFPyvM', 'KC6VwSBtPmM', 'S2N67zYhhwg', '2gCnPtbZ_Zg', 'tQ2MUvgedHA', 'gKnkXkZfFtg', 'jRo5qRHIJ60', 'Z5aL8rImmIU', '6qqz9jK_xCA', 'xggmF8hHaHw', '3oeeYwsRmUo', 'fHuJsmPFjGI', 'OqvsXmrkEws', 'Zp0eb10pGZs', 'm-qeAUVQqVU', '9N3MkCZ-DsE', 'i9Fd_9AEVfw', 'igYkn1JGmVI', 'SaDJm5zoi34', 'VYCZoFH6f4A', 'VMLRB0dUWGM', 'D2rhmr_jcAg', 'oglpFM99Zt4', '0h7HQunDAV8', 'oq5ttuHTSbI', 'DcvLoQWQhnw', 'xqTnYSzt_Xg', 'XtbzdCWWZws', 'vbZhG3kOd30', '23LZdLYmn-4', 'TwjEmyYp9mI', 'BHJMeF8RvzQ', '8GfZRpNG-Xg', '7PIL2S_V8gg', 'epr-DUYj6ts', 'tjQ3CNWNia0', '8Bcpr82I7fk', 'EhiZ7qEhBXY', 'LucZvTjSrQc', 'MCs7c76Np6I', 'ig2-wNHziyU', '6Acf1Xssufk', 'DTa0COsdB4U', '3XxrcLC9RZE', 'GFWuct_VJzw', 'PXRDZedQx1A', '-gl9K1JPhhU', 'z4ESFiY58to', 'BCZyUAbFdZo', 'MPSzy1OoT4Y', 'Fz-8k27mNx0', 'sx6G-DbFcQs', 'maima-xeLdU', 'Bjdzcgl2ZVY', 'OXrrnIV5fyc', 'GkAkYRamJ3s', 'IK6qecB-atw', '9uaE9ZhOo64', 'Ic997PwWXfw', '5qdrcixEAhw', 'v0Nr4FUKgF8', 'lAkpAFbJoQo', 'zZBc-pLHHv0', 'fBfh20AQesI', 'DFqIxqRX6KA', 'dB5kjPOqodo', 'Q9F5qw-pzAw', 'BcrPWJsMdro', '8_3Xw59Dl-Q', 'T4Dfgmv1Dgw', '5BU8s2b083g', 'qOBnkTE8Vpg', 'q-I_HrTfCYo', '-LxheNe4pTg', 'M0QR37-PLIU', 'ZhN39QRQ8io', 'd83XU9UW4JY', '0c6eVZ3TkaI', 'lIB7JbdB344', 'xkzH45_z6pQ', 'SkUbGhNQ4R0', 'dVoHMXXnlXg', 'rgZ7mSWxNrg', 'Di1eD9qsdow', 'P-VvRWueaoM', '8nvLrY4J2Wo', '4YdZF09kuX0', 'TDJMc1ImyPI', '-y4hkEcpccw', 'ouT-IorLkc8', 'EhJKWgHmVN0', 'SitKM3R3SOY', '3nHo6iSBi-U', 'YjvvXPtNbuM', 'VO8C5idVN6g', 'x_bd9RCeeFw', 'iEJUOrJ6NaY', 'm0VXG940JmY', 'vQxZ_6DqhLY', 'cS8lXfTKKME', 'cGCu2tw2KH0', 'rIebJbnLfIE', 'MmMdZlWaCRg', 'fd25f5DYJv0', 'D_k9Mm90SkA', 'FKBYKQGWBXI', 'KQPSZRjmUtM', 'trXRVBDECPI', 'MTlNilnl0Bk', 'b3VQsNVhWJA', 'hQURARNPyNo', 'Dxqv6o0qxYk', '4ZTOeIx08oQ', 'JmavAFEbitQ', '68NOZgIEjYE', 'N2b0oUOE20Q', 'FXFK3XPLd00', '7ArtFjADcA8', 'VPeYs5hHOvA', 'Y43rFCtxqCI', 'gak2FzrQlSI', 'eQmsrn-FZPg', '9ae5Ksa5USQ', 'Yc2Gd9Lv7m0', 'RUl3p421xN0', 'Af8jjEHv2U8', '5O9Ioz4ZjpU', 'oxyBnbGqerw', 'rp9aRHa-mfw', 'm2ax31mB5xw', 'KVh_3pas3So', '_bN25sBCfow', 'V9_k_7NFvQw', 'sffv87uWbJ8', 'xbaPzrVG-i8', 'g6TKMNQBD6U', '7tN7sZUQHPk', 'xXwNorN_m3k', '_UCzDBP9wnM', '5C6b4i1M0V4', 'AZcXLF7MHRo', '8-dmKlcp_f0', '3TQt0hAgr2c', 'g8zA42VD6Pk', 'Lt941zdjwek', 'f5JNpqQeSrg', 'NRtTiPMA5aY', 'RL0FAm0-_Lc', 'O73w5aV1zW0', 'TpLDRsIomCs', 'A0hVwWAZtGo', 'R6fRJ_2VHSI', '2MAjGJ4bzsc', 'tRx7KZu5GQw', 'buc5UL2gzto', 'aPNnLchwJZA', 'pbeJEF0P-2s', 'GYkktwHyO3E', 'Iy1AJ_I8XW0', 'YoFGdt2MTDU', 'AsF5RWubZPM', 'bOU1u2NRXkI', 'IJHD65uBv3U', 'z3ez06DFKt4', 'xPxp01JvW58', 'umaA_WDZFyo', 'L-l8NHVwMn8', 'vZ9dbUeEbQ4', 'tqOEaP0-OMM', 'l8Xsex0pqXY', 'RwYgRcOVHJo', 'Wj26mPoewAE', '87_GQZfVW94', 'TjAJmuEz5FE', '3SdOJfoMMuE', '4crW-9oZ8Bw', 'iPdtoJA4atw', 'hfazELEoLeY', 'SmCgwBAdUJ8', 'Jv3MM59-EII', '_QWgb_wIV-k', 'TNjaNrfH5ps', 'G9ckdLr2nHA', 'GJ8h9-lzscM', 'QNG_18P-jDU', 'FBmeqjVh6eA', 'iBZnPRCOjY8', 'KEWeJV96DRY', '4agKJog3GGs', '3MTBUwd-WxU', '15lkd0d6y54', '9eSuucMF4OU', 'gp2iuqDioZ4', 'tB0KNnZ4W0I', 'AumcSH936Ls', 'Sit7q9mVMSA', 'LShEpbtJrH8', 'lS61J-6dGM8', 'H7q1a9ZF7_g', 'D825k88ae1E', '4iqY1M-wreM', 'Xd-7qr8uI-U', 'fA2GDrRjAWs', 'X5y3J7WPOu4', 'bmDHayThUEs', 'W7YigWZJ7Ps', 'VTFoOQ6VdmM', 'keEpL9Qp_Ws', '0QaXM2lKZGw', 'N3mx0EXhCPM', 'uEpP1XtjUm8', 'KVp_BJx7FVs', '-LsPl2QPM78', 'c4nPqt1pWfs', 'k-Idmij7eOo', 'px9iwG-sdVY', 'DpM_kte9fBk', 'JKqUFEOhPdc', 'W65Ud-CD9fo', '3eoNGmkbw_I', 'gtdZO1nbimQ', '6amRUqdO2lo', 'NF916-T6Ltw', 'BEITFuR4krk', 'bxdEpGrsM0Q', 'dvigVfb9XVU', 'HvzI0Z8OsEI', 'bVeY7pAEsLE', 'AcZRtiwEvFc', 'cnx9DvIhiE4', 'hFY1bfrEUp4', 'AiiFbBjY1xE', 'ncZNkApab04', 'VToqVAahMAs', '8GRbKYDjMNg', 'DLOjuBWfDIg', 'yNFX5tCGo8E', 'tPzsuQ4LwhQ', 'vHXTJBnGbKw', '4U-UVNIvY3k', 'zEgp0fC3dAE', 'lFIaFwcv7PY', '3sD45P9lKuo', '9-ooq03G_r0', 'gAj9Cr6Sdvs', '6snssQ35AY8', 'iXmWZACzeRE', 'NkLXpT3xRP0', 'PKspuOiUdhI', 'K9tf6IitD4U', 'n7kIdSeoVrc', '7x-gKvFbd40', 'NLu4V1EieGU', 'EmFRUgWB0mM', 'CsU8BxisaRg', '5dtFC_LC_5o', 'pcOiaEaZqK4', 'NW-evF_0sMA', 'x3wycCqrLmY', 'QTUfbw4x-mM', '1aTa8egFA_I', 'GwUoUfXkJII', 'qsG-b5MH-Wc', 'XVHOeQ7tFm8', '7edm9bMcA9I', 'afG3ZVWHptU', 'IeSRpYZFVLA', 'eqzfzF2iabs', 'h3q5gZv-NB4', 'KurrGXpCOWg', 'CfjgN4pH234', 'hpnHnrfDXqY', 'Sbgqnt7qz_g', 'mlpUH_vHRaI', '9-kSgjEwtJw', 'lPKZCk5tmzA', 'wvkSQZCg8pQ', 'NrDHIaJac2Q', 'ugWS7LR-PoI', 'vaQ1gQEJVTw', 'QpqtEZ0cBCU', '2b1jvCSSVe4', '7QFNc-PThnM', '-Rr_O8i25LI', 'boCgCrXXabc', 'LbPe7u2znuw', 'wuqhdafoBBg', 'sgiWFUjxA6Q', 'N5MxngjOeLs', '2iIIxNj7r7w', 'tsdFtFDfSoc', 'w9bmx6ssGgQ', 'oim8SoXLzeU', 'qmdvAA1h5VU', '0SjgdIKoHIY', 'kdCkQuo_fKU', 'BrXRl6VQRMQ', 'OKGLPt-H0ao', 'RXU-EMZZDnI', 'F8xnSxviXQo', 'YpwNJC8d7Ts', 'djjhl9hLBwM', 'lHgASUDRsUE', 'EAaTpBq_bGo', '1k9WTo6S3iU', 'uXLIwYKEAqc', 'xO9dX9gmRp8', 'zeQbkYP5ejo', '0bEQ5u47Kuo', 'ZkbmRF9GnKE', 'CbIaqcKU-18', '13KNdgxas6c', 'rs6CWsfTSDE', '1HrjOnv1_PE', 'djKCOfLWsys', 'WLXM7fDK23U', 'BmHsgJ_161o', 'gebhJCNX_i0', 'IKlLj70rQSI', 'wxYURoCN0QE', 'fEJvXpRBhKg', 'gRhO6NP3D88', '4k0_9zkga04', 'ebcm6NVMIoo', 'YaZHgTKm-4A', '54S8mILSlrA', '676DwUjcBOo', 'GtySZd7IPQI', 'b-EwAgr6VNU', '-aEJ6BB1Bps', 'mfP8bFb5gS0', 'Vr9t8qKyrRg', '2Lb6Vm5Cldk', 'qaKcW_xhKrM', 'FRC_8kparSk', '2FV1MvO03FY', 'drSpwcNKU9w', 'vliSiRtG3PM', 'ZWYXib2EYek', '8bkRCIAnLmQ', 'QnHBSSXhcIM', 'LRmLxo0Kf_0', 'Qv7_31feCak', 'ZMi4QlaULiE', 'LbhHoY8c00s', 'TlGChYhPhVg', '3u63XJZYhok', 'XcppxJHIOtc', 'ALT1ayqhOZw', 'C2D0--Z5OPg', 'OFzysKXw_Lw', 'Kt5BqnGi4WI', 'iIDcqMbRjds', 'gfeoTAmfvkM', 'O5DCSZUEy-U', '_HDpLRHNinM', '7DMDghS2HD4', 'h5QZ5Lsc3ZI', '2r7JS1O0IGA', '2FJy5FEtUSY', 'UoYlWwhVJK0', 'f9kWEHBbM80', 'ZtGrR5iOs8M', 'RJrf98qmaxA', 'okfSCRnbJaY', 'JpDRkLBUpfM', '0HJb6RxZo5g', 'QzPE_umlg4Q', '7bjwNNF4Cdw', '063IUssLgVU', 'dIuyZ5uEEFM', 'DfT7pVPtwtg', 'e3yK1pZgkTc', 'rjYAvcyf7WA', '_8AZ5QYRyrQ', '6V-ZfIvMPlg', 'j74aq9WLhHM', 'VPU7YE9SzzI', 'CsPYAu7QKgE', 'Q6pkIvydA0c']\n"
          ]
        }
      ],
      "source": [
        "video_ids=get_video_ids_v2(youtube,playlist_id)\n",
        "print(video_ids)"
      ]
    },
    {
      "cell_type": "markdown",
      "metadata": {
        "id": "YTMOUdNMn-BL"
      },
      "source": [
        "So we have 50 video id's, but our goal is to get all video_ids, In order to do that, we use, nextPageToken to get access to the next page in the results., So in total JJ Olatunji channel has 1288 videos uploaded."
      ]
    },
    {
      "cell_type": "markdown",
      "metadata": {
        "id": "gCUD2YlKrI2u"
      },
      "source": [
        "# Function to get video details"
      ]
    },
    {
      "cell_type": "code",
      "execution_count": 37,
      "metadata": {
        "id": "lOh4Z2sjn7nj"
      },
      "outputs": [],
      "source": [
        "#For some videos,Comments might have been disabled or that info is\n",
        "#not available, so we use try and except to avoid KeyError\n",
        "\n",
        "#To get comments, this function is used below\n",
        "def commentFetch(video):\n",
        "  try:\n",
        "    return video['statistics']['commentCount']\n",
        "  except KeyError:\n",
        "    return None\n",
        "\n",
        "def get_video_details(youtube, video_ids):\n",
        "    all_video_stats = []\n",
        "\n",
        "    for i in range(0, len(video_ids), 50):\n",
        "        request = youtube.videos().list(\n",
        "                    part='snippet,statistics',\n",
        "                    id=','.join(video_ids[i:i+50]))\n",
        "        response = request.execute()\n",
        "\n",
        "        for video in response['items']:\n",
        "            video_stats = dict(Title = video['snippet']['title'],\n",
        "                               Published_date = video['snippet']['publishedAt'],\n",
        "                               Views = video['statistics']['viewCount'],\n",
        "\n",
        "                               Comments =commentFetch(video)\n",
        "                               )\n",
        "            all_video_stats.append(video_stats)\n",
        "\n",
        "    return all_video_stats"
      ]
    },
    {
      "cell_type": "code",
      "execution_count": 38,
      "metadata": {
        "id": "hlUcD_A0rt6-"
      },
      "outputs": [],
      "source": [
        "video_details=get_video_details(youtube,video_ids)"
      ]
    },
    {
      "cell_type": "markdown",
      "metadata": {
        "id": "el4ANz7UtJaA"
      },
      "source": [
        "So we have gotten video details as well, The for loop was used as we can only get at maximum 50 responses from one call, so we put it in a for loop and everytime i to i+50 video details are stored and displayed."
      ]
    },
    {
      "cell_type": "code",
      "execution_count": 39,
      "metadata": {
        "colab": {
          "base_uri": "https://localhost:8080/",
          "height": 641
        },
        "id": "dabr9Fa0r3TL",
        "outputId": "790aaa89-71a9-40e7-9fc1-b5a149f7f051"
      },
      "outputs": [
        {
          "data": {
            "text/html": [
              "<div>\n",
              "<style scoped>\n",
              "    .dataframe tbody tr th:only-of-type {\n",
              "        vertical-align: middle;\n",
              "    }\n",
              "\n",
              "    .dataframe tbody tr th {\n",
              "        vertical-align: top;\n",
              "    }\n",
              "\n",
              "    .dataframe thead th {\n",
              "        text-align: right;\n",
              "    }\n",
              "</style>\n",
              "<table border=\"1\" class=\"dataframe\">\n",
              "  <thead>\n",
              "    <tr style=\"text-align: right;\">\n",
              "      <th></th>\n",
              "      <th>Title</th>\n",
              "      <th>Published_date</th>\n",
              "      <th>Views</th>\n",
              "      <th>Comments</th>\n",
              "    </tr>\n",
              "  </thead>\n",
              "  <tbody>\n",
              "    <tr>\n",
              "      <th>0</th>\n",
              "      <td>This Was Annoying</td>\n",
              "      <td>2023-07-10T16:58:25Z</td>\n",
              "      <td>2595792</td>\n",
              "      <td>4124</td>\n",
              "    </tr>\n",
              "    <tr>\n",
              "      <th>1</th>\n",
              "      <td>I Found The Person Who Hit Me In The Face!</td>\n",
              "      <td>2023-07-02T16:19:35Z</td>\n",
              "      <td>3089606</td>\n",
              "      <td>4344</td>\n",
              "    </tr>\n",
              "    <tr>\n",
              "      <th>2</th>\n",
              "      <td>I’m sick of this!</td>\n",
              "      <td>2023-06-30T15:00:24Z</td>\n",
              "      <td>1677530</td>\n",
              "      <td>4050</td>\n",
              "    </tr>\n",
              "    <tr>\n",
              "      <th>3</th>\n",
              "      <td>Try Not To Laugh With My Cat</td>\n",
              "      <td>2023-06-24T17:35:37Z</td>\n",
              "      <td>3491026</td>\n",
              "      <td>5037</td>\n",
              "    </tr>\n",
              "    <tr>\n",
              "      <th>4</th>\n",
              "      <td>I Got Trolled</td>\n",
              "      <td>2023-06-21T16:00:26Z</td>\n",
              "      <td>2282507</td>\n",
              "      <td>3047</td>\n",
              "    </tr>\n",
              "    <tr>\n",
              "      <th>...</th>\n",
              "      <td>...</td>\n",
              "      <td>...</td>\n",
              "      <td>...</td>\n",
              "      <td>...</td>\n",
              "    </tr>\n",
              "    <tr>\n",
              "      <th>1283</th>\n",
              "      <td>Dragon Ball Z Ultimate Tenkaichi - Playthrough #2</td>\n",
              "      <td>2011-10-31T16:17:48Z</td>\n",
              "      <td>141248</td>\n",
              "      <td>483</td>\n",
              "    </tr>\n",
              "    <tr>\n",
              "      <th>1284</th>\n",
              "      <td>Dragon Ball Z Ultimate Tenkaichi - Playthrough #1</td>\n",
              "      <td>2011-10-31T15:51:27Z</td>\n",
              "      <td>121838</td>\n",
              "      <td>423</td>\n",
              "    </tr>\n",
              "    <tr>\n",
              "      <th>1285</th>\n",
              "      <td>Battlefield 3 | Shotguns are BEAST!</td>\n",
              "      <td>2011-10-31T12:22:04Z</td>\n",
              "      <td>209306</td>\n",
              "      <td>410</td>\n",
              "    </tr>\n",
              "    <tr>\n",
              "      <th>1286</th>\n",
              "      <td>Scary Games</td>\n",
              "      <td>2011-09-04T13:21:20Z</td>\n",
              "      <td>375221</td>\n",
              "      <td>1750</td>\n",
              "    </tr>\n",
              "    <tr>\n",
              "      <th>1287</th>\n",
              "      <td>Black Ops | One in the Chamber</td>\n",
              "      <td>2011-08-31T14:00:09Z</td>\n",
              "      <td>988141</td>\n",
              "      <td>5454</td>\n",
              "    </tr>\n",
              "  </tbody>\n",
              "</table>\n",
              "<p>1288 rows × 4 columns</p>\n",
              "</div>"
            ],
            "text/plain": [
              "                                                  Title        Published_date  \\\n",
              "0                                     This Was Annoying  2023-07-10T16:58:25Z   \n",
              "1            I Found The Person Who Hit Me In The Face!  2023-07-02T16:19:35Z   \n",
              "2                                     I’m sick of this!  2023-06-30T15:00:24Z   \n",
              "3                          Try Not To Laugh With My Cat  2023-06-24T17:35:37Z   \n",
              "4                                         I Got Trolled  2023-06-21T16:00:26Z   \n",
              "...                                                 ...                   ...   \n",
              "1283  Dragon Ball Z Ultimate Tenkaichi - Playthrough #2  2011-10-31T16:17:48Z   \n",
              "1284  Dragon Ball Z Ultimate Tenkaichi - Playthrough #1  2011-10-31T15:51:27Z   \n",
              "1285                Battlefield 3 | Shotguns are BEAST!  2011-10-31T12:22:04Z   \n",
              "1286                                        Scary Games  2011-09-04T13:21:20Z   \n",
              "1287                     Black Ops | One in the Chamber  2011-08-31T14:00:09Z   \n",
              "\n",
              "        Views Comments  \n",
              "0     2595792     4124  \n",
              "1     3089606     4344  \n",
              "2     1677530     4050  \n",
              "3     3491026     5037  \n",
              "4     2282507     3047  \n",
              "...       ...      ...  \n",
              "1283   141248      483  \n",
              "1284   121838      423  \n",
              "1285   209306      410  \n",
              "1286   375221     1750  \n",
              "1287   988141     5454  \n",
              "\n",
              "[1288 rows x 4 columns]"
            ]
          },
          "execution_count": 39,
          "metadata": {},
          "output_type": "execute_result"
        }
      ],
      "source": [
        "video_data=pd.DataFrame(video_details)\n",
        "video_data"
      ]
    },
    {
      "cell_type": "code",
      "execution_count": 40,
      "metadata": {
        "colab": {
          "base_uri": "https://localhost:8080/"
        },
        "id": "n6R0xk7l1PLK",
        "outputId": "ca46052f-ae33-4ae8-da50-c8f510496768"
      },
      "outputs": [
        {
          "data": {
            "text/plain": [
              "Title              object\n",
              "Published_date     object\n",
              "Views               int64\n",
              "Comments          float64\n",
              "dtype: object"
            ]
          },
          "execution_count": 40,
          "metadata": {},
          "output_type": "execute_result"
        }
      ],
      "source": [
        "video_data['Published_date']=pd.to_datetime(video_data['Published_date']).dt.date\n",
        "video_data['Views']=pd.to_numeric(video_data['Views'])\n",
        "video_data['Comments']=pd.to_numeric(video_data['Comments'])\n",
        "video_data.dtypes"
      ]
    },
    {
      "cell_type": "markdown",
      "metadata": {
        "id": "aU03GeNv1Ikd"
      },
      "source": [
        "So we have a dataframe with data of all videos of JJ"
      ]
    },
    {
      "cell_type": "code",
      "execution_count": 41,
      "metadata": {
        "colab": {
          "base_uri": "https://localhost:8080/",
          "height": 441
        },
        "id": "9KOvBaQa089l",
        "outputId": "c8d037f2-aa95-4226-c82c-a06749419edb"
      },
      "outputs": [
        {
          "data": {
            "text/html": [
              "<div>\n",
              "<style scoped>\n",
              "    .dataframe tbody tr th:only-of-type {\n",
              "        vertical-align: middle;\n",
              "    }\n",
              "\n",
              "    .dataframe tbody tr th {\n",
              "        vertical-align: top;\n",
              "    }\n",
              "\n",
              "    .dataframe thead th {\n",
              "        text-align: right;\n",
              "    }\n",
              "</style>\n",
              "<table border=\"1\" class=\"dataframe\">\n",
              "  <thead>\n",
              "    <tr style=\"text-align: right;\">\n",
              "      <th></th>\n",
              "      <th>Title</th>\n",
              "      <th>Published_date</th>\n",
              "      <th>Views</th>\n",
              "      <th>Comments</th>\n",
              "    </tr>\n",
              "  </thead>\n",
              "  <tbody>\n",
              "    <tr>\n",
              "      <th>774</th>\n",
              "      <td>KSI Plays | A RACIST COMPUTER PROGRAM</td>\n",
              "      <td>2014-08-26</td>\n",
              "      <td>26628709</td>\n",
              "      <td>44037.0</td>\n",
              "    </tr>\n",
              "    <tr>\n",
              "      <th>230</th>\n",
              "      <td>TRY NOT TO LAUGH (African Edition 2)</td>\n",
              "      <td>2020-12-08</td>\n",
              "      <td>22911923</td>\n",
              "      <td>17966.0</td>\n",
              "    </tr>\n",
              "    <tr>\n",
              "      <th>446</th>\n",
              "      <td>TRY NOT TO PERISH CHALLENGE</td>\n",
              "      <td>2019-02-26</td>\n",
              "      <td>22581088</td>\n",
              "      <td>33988.0</td>\n",
              "    </tr>\n",
              "    <tr>\n",
              "      <th>268</th>\n",
              "      <td>It‘s So Hard Not To Laugh At This</td>\n",
              "      <td>2020-10-01</td>\n",
              "      <td>21928183</td>\n",
              "      <td>30931.0</td>\n",
              "    </tr>\n",
              "    <tr>\n",
              "      <th>445</th>\n",
              "      <td>TRY NOT TO LAUGH (ULTIMATE EDITION)</td>\n",
              "      <td>2019-02-27</td>\n",
              "      <td>21298819</td>\n",
              "      <td>18597.0</td>\n",
              "    </tr>\n",
              "    <tr>\n",
              "      <th>214</th>\n",
              "      <td>Try Not To Laugh (Inappropriate Edition)</td>\n",
              "      <td>2021-02-10</td>\n",
              "      <td>19278840</td>\n",
              "      <td>19586.0</td>\n",
              "    </tr>\n",
              "    <tr>\n",
              "      <th>375</th>\n",
              "      <td>REACTING TO EVERY DISSTRACK AT ME</td>\n",
              "      <td>2020-04-19</td>\n",
              "      <td>18978335</td>\n",
              "      <td>34126.0</td>\n",
              "    </tr>\n",
              "    <tr>\n",
              "      <th>467</th>\n",
              "      <td>GUESS HER AGE?</td>\n",
              "      <td>2019-02-04</td>\n",
              "      <td>18764750</td>\n",
              "      <td>33235.0</td>\n",
              "    </tr>\n",
              "    <tr>\n",
              "      <th>500</th>\n",
              "      <td>Watching Weird Videos</td>\n",
              "      <td>2019-01-02</td>\n",
              "      <td>18580974</td>\n",
              "      <td>18682.0</td>\n",
              "    </tr>\n",
              "    <tr>\n",
              "      <th>365</th>\n",
              "      <td>TRY NOT TO LAUGH DANK MEMES</td>\n",
              "      <td>2020-04-30</td>\n",
              "      <td>18491518</td>\n",
              "      <td>35128.0</td>\n",
              "    </tr>\n",
              "  </tbody>\n",
              "</table>\n",
              "</div>"
            ],
            "text/plain": [
              "                                        Title Published_date     Views  \\\n",
              "774     KSI Plays | A RACIST COMPUTER PROGRAM     2014-08-26  26628709   \n",
              "230      TRY NOT TO LAUGH (African Edition 2)     2020-12-08  22911923   \n",
              "446               TRY NOT TO PERISH CHALLENGE     2019-02-26  22581088   \n",
              "268         It‘s So Hard Not To Laugh At This     2020-10-01  21928183   \n",
              "445       TRY NOT TO LAUGH (ULTIMATE EDITION)     2019-02-27  21298819   \n",
              "214  Try Not To Laugh (Inappropriate Edition)     2021-02-10  19278840   \n",
              "375         REACTING TO EVERY DISSTRACK AT ME     2020-04-19  18978335   \n",
              "467                            GUESS HER AGE?     2019-02-04  18764750   \n",
              "500                     Watching Weird Videos     2019-01-02  18580974   \n",
              "365               TRY NOT TO LAUGH DANK MEMES     2020-04-30  18491518   \n",
              "\n",
              "     Comments  \n",
              "774   44037.0  \n",
              "230   17966.0  \n",
              "446   33988.0  \n",
              "268   30931.0  \n",
              "445   18597.0  \n",
              "214   19586.0  \n",
              "375   34126.0  \n",
              "467   33235.0  \n",
              "500   18682.0  \n",
              "365   35128.0  "
            ]
          },
          "execution_count": 41,
          "metadata": {},
          "output_type": "execute_result"
        }
      ],
      "source": [
        "#Identify top 10 videos by Views\n",
        "top_videos=video_data.sort_values(by=\"Views\",ascending=False).head(10)\n",
        "top_videos"
      ]
    },
    {
      "cell_type": "code",
      "execution_count": 42,
      "metadata": {
        "colab": {
          "base_uri": "https://localhost:8080/",
          "height": 390
        },
        "id": "VEtiNyFA1wQ1",
        "outputId": "cfb9509a-88d8-4895-88f0-46040adfa340"
      },
      "outputs": [
        {
          "data": {
            "image/png": "[encoded data removed]",
            "text/plain": [
              "<Figure size 1000x800 with 1 Axes>"
            ]
          },
          "metadata": {},
          "output_type": "display_data"
        }
      ],
      "source": [
        "#Bar chart for these top 10 videos\n",
        "\n",
        "ax1=sns.barplot(x='Views',y='Title',data=top_videos)"
      ]
    },
    {
      "cell_type": "code",
      "execution_count": 43,
      "metadata": {
        "id": "mR-VFulF2CFf"
      },
      "outputs": [],
      "source": [
        "video_data['Month']=pd.to_datetime(video_data['Published_date']).dt.strftime('%b')"
      ]
    },
    {
      "cell_type": "code",
      "execution_count": 44,
      "metadata": {
        "colab": {
          "base_uri": "https://localhost:8080/",
          "height": 519
        },
        "id": "e85x-6rg2U22",
        "outputId": "e51e0e74-f830-43e7-f3dc-dbfa5298d58b"
      },
      "outputs": [
        {
          "data": {
            "text/html": [
              "<div>\n",
              "<style scoped>\n",
              "    .dataframe tbody tr th:only-of-type {\n",
              "        vertical-align: middle;\n",
              "    }\n",
              "\n",
              "    .dataframe tbody tr th {\n",
              "        vertical-align: top;\n",
              "    }\n",
              "\n",
              "    .dataframe thead th {\n",
              "        text-align: right;\n",
              "    }\n",
              "</style>\n",
              "<table border=\"1\" class=\"dataframe\">\n",
              "  <thead>\n",
              "    <tr style=\"text-align: right;\">\n",
              "      <th></th>\n",
              "      <th>Title</th>\n",
              "      <th>Published_date</th>\n",
              "      <th>Views</th>\n",
              "      <th>Comments</th>\n",
              "      <th>Month</th>\n",
              "    </tr>\n",
              "  </thead>\n",
              "  <tbody>\n",
              "    <tr>\n",
              "      <th>0</th>\n",
              "      <td>This Was Annoying</td>\n",
              "      <td>2023-07-10</td>\n",
              "      <td>2595792</td>\n",
              "      <td>4124.0</td>\n",
              "      <td>Jul</td>\n",
              "    </tr>\n",
              "    <tr>\n",
              "      <th>1</th>\n",
              "      <td>I Found The Person Who Hit Me In The Face!</td>\n",
              "      <td>2023-07-02</td>\n",
              "      <td>3089606</td>\n",
              "      <td>4344.0</td>\n",
              "      <td>Jul</td>\n",
              "    </tr>\n",
              "    <tr>\n",
              "      <th>2</th>\n",
              "      <td>I’m sick of this!</td>\n",
              "      <td>2023-06-30</td>\n",
              "      <td>1677530</td>\n",
              "      <td>4050.0</td>\n",
              "      <td>Jun</td>\n",
              "    </tr>\n",
              "    <tr>\n",
              "      <th>3</th>\n",
              "      <td>Try Not To Laugh With My Cat</td>\n",
              "      <td>2023-06-24</td>\n",
              "      <td>3491026</td>\n",
              "      <td>5037.0</td>\n",
              "      <td>Jun</td>\n",
              "    </tr>\n",
              "    <tr>\n",
              "      <th>4</th>\n",
              "      <td>I Got Trolled</td>\n",
              "      <td>2023-06-21</td>\n",
              "      <td>2282507</td>\n",
              "      <td>3047.0</td>\n",
              "      <td>Jun</td>\n",
              "    </tr>\n",
              "    <tr>\n",
              "      <th>...</th>\n",
              "      <td>...</td>\n",
              "      <td>...</td>\n",
              "      <td>...</td>\n",
              "      <td>...</td>\n",
              "      <td>...</td>\n",
              "    </tr>\n",
              "    <tr>\n",
              "      <th>1283</th>\n",
              "      <td>Dragon Ball Z Ultimate Tenkaichi - Playthrough #2</td>\n",
              "      <td>2011-10-31</td>\n",
              "      <td>141248</td>\n",
              "      <td>483.0</td>\n",
              "      <td>Oct</td>\n",
              "    </tr>\n",
              "    <tr>\n",
              "      <th>1284</th>\n",
              "      <td>Dragon Ball Z Ultimate Tenkaichi - Playthrough #1</td>\n",
              "      <td>2011-10-31</td>\n",
              "      <td>121838</td>\n",
              "      <td>423.0</td>\n",
              "      <td>Oct</td>\n",
              "    </tr>\n",
              "    <tr>\n",
              "      <th>1285</th>\n",
              "      <td>Battlefield 3 | Shotguns are BEAST!</td>\n",
              "      <td>2011-10-31</td>\n",
              "      <td>209306</td>\n",
              "      <td>410.0</td>\n",
              "      <td>Oct</td>\n",
              "    </tr>\n",
              "    <tr>\n",
              "      <th>1286</th>\n",
              "      <td>Scary Games</td>\n",
              "      <td>2011-09-04</td>\n",
              "      <td>375221</td>\n",
              "      <td>1750.0</td>\n",
              "      <td>Sep</td>\n",
              "    </tr>\n",
              "    <tr>\n",
              "      <th>1287</th>\n",
              "      <td>Black Ops | One in the Chamber</td>\n",
              "      <td>2011-08-31</td>\n",
              "      <td>988141</td>\n",
              "      <td>5454.0</td>\n",
              "      <td>Aug</td>\n",
              "    </tr>\n",
              "  </tbody>\n",
              "</table>\n",
              "<p>1288 rows × 5 columns</p>\n",
              "</div>"
            ],
            "text/plain": [
              "                                                  Title Published_date  \\\n",
              "0                                     This Was Annoying     2023-07-10   \n",
              "1            I Found The Person Who Hit Me In The Face!     2023-07-02   \n",
              "2                                     I’m sick of this!     2023-06-30   \n",
              "3                          Try Not To Laugh With My Cat     2023-06-24   \n",
              "4                                         I Got Trolled     2023-06-21   \n",
              "...                                                 ...            ...   \n",
              "1283  Dragon Ball Z Ultimate Tenkaichi - Playthrough #2     2011-10-31   \n",
              "1284  Dragon Ball Z Ultimate Tenkaichi - Playthrough #1     2011-10-31   \n",
              "1285                Battlefield 3 | Shotguns are BEAST!     2011-10-31   \n",
              "1286                                        Scary Games     2011-09-04   \n",
              "1287                     Black Ops | One in the Chamber     2011-08-31   \n",
              "\n",
              "        Views  Comments Month  \n",
              "0     2595792    4124.0   Jul  \n",
              "1     3089606    4344.0   Jul  \n",
              "2     1677530    4050.0   Jun  \n",
              "3     3491026    5037.0   Jun  \n",
              "4     2282507    3047.0   Jun  \n",
              "...       ...       ...   ...  \n",
              "1283   141248     483.0   Oct  \n",
              "1284   121838     423.0   Oct  \n",
              "1285   209306     410.0   Oct  \n",
              "1286   375221    1750.0   Sep  \n",
              "1287   988141    5454.0   Aug  \n",
              "\n",
              "[1288 rows x 5 columns]"
            ]
          },
          "execution_count": 44,
          "metadata": {},
          "output_type": "execute_result"
        }
      ],
      "source": [
        "video_data"
      ]
    },
    {
      "cell_type": "code",
      "execution_count": 45,
      "metadata": {
        "colab": {
          "base_uri": "https://localhost:8080/",
          "height": 425
        },
        "id": "LqZvhoYr2WM_",
        "outputId": "59958328-fea1-45c5-9d52-4d928d9f2ce3"
      },
      "outputs": [
        {
          "data": {
            "text/html": [
              "<div>\n",
              "<style scoped>\n",
              "    .dataframe tbody tr th:only-of-type {\n",
              "        vertical-align: middle;\n",
              "    }\n",
              "\n",
              "    .dataframe tbody tr th {\n",
              "        vertical-align: top;\n",
              "    }\n",
              "\n",
              "    .dataframe thead th {\n",
              "        text-align: right;\n",
              "    }\n",
              "</style>\n",
              "<table border=\"1\" class=\"dataframe\">\n",
              "  <thead>\n",
              "    <tr style=\"text-align: right;\">\n",
              "      <th></th>\n",
              "      <th>Month</th>\n",
              "      <th>size</th>\n",
              "    </tr>\n",
              "  </thead>\n",
              "  <tbody>\n",
              "    <tr>\n",
              "      <th>0</th>\n",
              "      <td>Apr</td>\n",
              "      <td>108</td>\n",
              "    </tr>\n",
              "    <tr>\n",
              "      <th>1</th>\n",
              "      <td>Aug</td>\n",
              "      <td>111</td>\n",
              "    </tr>\n",
              "    <tr>\n",
              "      <th>2</th>\n",
              "      <td>Dec</td>\n",
              "      <td>69</td>\n",
              "    </tr>\n",
              "    <tr>\n",
              "      <th>3</th>\n",
              "      <td>Feb</td>\n",
              "      <td>125</td>\n",
              "    </tr>\n",
              "    <tr>\n",
              "      <th>4</th>\n",
              "      <td>Jan</td>\n",
              "      <td>137</td>\n",
              "    </tr>\n",
              "    <tr>\n",
              "      <th>5</th>\n",
              "      <td>Jul</td>\n",
              "      <td>66</td>\n",
              "    </tr>\n",
              "    <tr>\n",
              "      <th>6</th>\n",
              "      <td>Jun</td>\n",
              "      <td>88</td>\n",
              "    </tr>\n",
              "    <tr>\n",
              "      <th>7</th>\n",
              "      <td>Mar</td>\n",
              "      <td>114</td>\n",
              "    </tr>\n",
              "    <tr>\n",
              "      <th>8</th>\n",
              "      <td>May</td>\n",
              "      <td>141</td>\n",
              "    </tr>\n",
              "    <tr>\n",
              "      <th>9</th>\n",
              "      <td>Nov</td>\n",
              "      <td>86</td>\n",
              "    </tr>\n",
              "    <tr>\n",
              "      <th>10</th>\n",
              "      <td>Oct</td>\n",
              "      <td>129</td>\n",
              "    </tr>\n",
              "    <tr>\n",
              "      <th>11</th>\n",
              "      <td>Sep</td>\n",
              "      <td>114</td>\n",
              "    </tr>\n",
              "  </tbody>\n",
              "</table>\n",
              "</div>"
            ],
            "text/plain": [
              "   Month  size\n",
              "0    Apr   108\n",
              "1    Aug   111\n",
              "2    Dec    69\n",
              "3    Feb   125\n",
              "4    Jan   137\n",
              "5    Jul    66\n",
              "6    Jun    88\n",
              "7    Mar   114\n",
              "8    May   141\n",
              "9    Nov    86\n",
              "10   Oct   129\n",
              "11   Sep   114"
            ]
          },
          "execution_count": 45,
          "metadata": {},
          "output_type": "execute_result"
        }
      ],
      "source": [
        "#We now try to show how many videos uploaded based on Month\n",
        "\n",
        "videos_per_month=video_data.groupby('Month',as_index=False).size()\n",
        "videos_per_month"
      ]
    },
    {
      "cell_type": "code",
      "execution_count": 46,
      "metadata": {
        "id": "RUZxT1SF2hKv"
      },
      "outputs": [],
      "source": [
        "sort_order = ['Jan', 'Feb', 'Mar', 'Apr', 'May', 'Jun',\n",
        "             'Jul', 'Aug', 'Sep', 'Oct', 'Nov', 'Dec']"
      ]
    },
    {
      "cell_type": "code",
      "execution_count": 47,
      "metadata": {
        "colab": {
          "base_uri": "https://localhost:8080/",
          "height": 457
        },
        "id": "tBD9n1312zYL",
        "outputId": "80ec423c-3a6c-4bec-d55e-08a950bc1f7d"
      },
      "outputs": [
        {
          "data": {
            "text/html": [
              "<div>\n",
              "<style scoped>\n",
              "    .dataframe tbody tr th:only-of-type {\n",
              "        vertical-align: middle;\n",
              "    }\n",
              "\n",
              "    .dataframe tbody tr th {\n",
              "        vertical-align: top;\n",
              "    }\n",
              "\n",
              "    .dataframe thead th {\n",
              "        text-align: right;\n",
              "    }\n",
              "</style>\n",
              "<table border=\"1\" class=\"dataframe\">\n",
              "  <thead>\n",
              "    <tr style=\"text-align: right;\">\n",
              "      <th></th>\n",
              "      <th>Month</th>\n",
              "      <th>size</th>\n",
              "    </tr>\n",
              "    <tr>\n",
              "      <th>Month</th>\n",
              "      <th></th>\n",
              "      <th></th>\n",
              "    </tr>\n",
              "  </thead>\n",
              "  <tbody>\n",
              "    <tr>\n",
              "      <th>Jan</th>\n",
              "      <td>Jan</td>\n",
              "      <td>137</td>\n",
              "    </tr>\n",
              "    <tr>\n",
              "      <th>Feb</th>\n",
              "      <td>Feb</td>\n",
              "      <td>125</td>\n",
              "    </tr>\n",
              "    <tr>\n",
              "      <th>Mar</th>\n",
              "      <td>Mar</td>\n",
              "      <td>114</td>\n",
              "    </tr>\n",
              "    <tr>\n",
              "      <th>Apr</th>\n",
              "      <td>Apr</td>\n",
              "      <td>108</td>\n",
              "    </tr>\n",
              "    <tr>\n",
              "      <th>May</th>\n",
              "      <td>May</td>\n",
              "      <td>141</td>\n",
              "    </tr>\n",
              "    <tr>\n",
              "      <th>Jun</th>\n",
              "      <td>Jun</td>\n",
              "      <td>88</td>\n",
              "    </tr>\n",
              "    <tr>\n",
              "      <th>Jul</th>\n",
              "      <td>Jul</td>\n",
              "      <td>66</td>\n",
              "    </tr>\n",
              "    <tr>\n",
              "      <th>Aug</th>\n",
              "      <td>Aug</td>\n",
              "      <td>111</td>\n",
              "    </tr>\n",
              "    <tr>\n",
              "      <th>Sep</th>\n",
              "      <td>Sep</td>\n",
              "      <td>114</td>\n",
              "    </tr>\n",
              "    <tr>\n",
              "      <th>Oct</th>\n",
              "      <td>Oct</td>\n",
              "      <td>129</td>\n",
              "    </tr>\n",
              "    <tr>\n",
              "      <th>Nov</th>\n",
              "      <td>Nov</td>\n",
              "      <td>86</td>\n",
              "    </tr>\n",
              "    <tr>\n",
              "      <th>Dec</th>\n",
              "      <td>Dec</td>\n",
              "      <td>69</td>\n",
              "    </tr>\n",
              "  </tbody>\n",
              "</table>\n",
              "</div>"
            ],
            "text/plain": [
              "      Month  size\n",
              "Month            \n",
              "Jan     Jan   137\n",
              "Feb     Feb   125\n",
              "Mar     Mar   114\n",
              "Apr     Apr   108\n",
              "May     May   141\n",
              "Jun     Jun    88\n",
              "Jul     Jul    66\n",
              "Aug     Aug   111\n",
              "Sep     Sep   114\n",
              "Oct     Oct   129\n",
              "Nov     Nov    86\n",
              "Dec     Dec    69"
            ]
          },
          "execution_count": 47,
          "metadata": {},
          "output_type": "execute_result"
        }
      ],
      "source": [
        "videos_per_month.index=pd.CategoricalIndex(videos_per_month['Month'],categories=sort_order,ordered=True)\n",
        "videos_per_month=videos_per_month.sort_index()\n",
        "videos_per_month"
      ]
    },
    {
      "cell_type": "code",
      "execution_count": 48,
      "metadata": {
        "colab": {
          "base_uri": "https://localhost:8080/",
          "height": 520
        },
        "id": "Awr61VoJ3D0X",
        "outputId": "6588bcdc-d021-45df-ab08-541003de9fb2"
      },
      "outputs": [
        {
          "data": {
            "image/png": "[encoded data removed]",
            "text/plain": [
              "<Figure size 1000x800 with 1 Axes>"
            ]
          },
          "metadata": {},
          "output_type": "display_data"
        }
      ],
      "source": [
        "#Plot this data above.\n",
        "ax2=sns.barplot(x='Month',y='size',data=videos_per_month)"
      ]
    },
    {
      "cell_type": "markdown",
      "metadata": {
        "id": "qkMbUQQ23Vzd"
      },
      "source": [
        "## This was just a learning experience for me with using Youtube API, There is a lot more scope to do analysis on data and a lot more data can be extracted from the api. So future scope for this mini project is a lot and I plan to update this notebook with more analysis later on.\n"
      ]
    },
    {
      "cell_type": "code",
      "execution_count": null,
      "metadata": {
        "id": "jTgTXKJV3Q6P"
      },
      "outputs": [],
      "source": []
    }
  ],
  "metadata": {
    "colab": {
      "provenance": []
    },
    "kernelspec": {
      "display_name": "Python 3",
      "name": "python3"
    },
    "language_info": {
      "codemirror_mode": {
        "name": "ipython",
        "version": 3
      },
      "file_extension": ".py",
      "mimetype": "text/x-python",
      "name": "python",
      "nbconvert_exporter": "python",
      "pygments_lexer": "ipython3",
      "version": "3.9.13"
    }
  },
  "nbformat": 4,
  "nbformat_minor": 0
}
